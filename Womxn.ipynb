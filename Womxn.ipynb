{
  "nbformat": 4,
  "nbformat_minor": 0,
  "metadata": {
    "colab": {
      "name": "Womxn.ipynb",
      "provenance": [],
      "authorship_tag": "ABX9TyO/zEhimL3Fm+o6sTgF8WhX",
      "include_colab_link": true
    },
    "kernelspec": {
      "name": "python3",
      "display_name": "Python 3"
    },
    "language_info": {
      "name": "python"
    }
  },
  "cells": [
    {
      "cell_type": "markdown",
      "metadata": {
        "id": "view-in-github",
        "colab_type": "text"
      },
      "source": [
        "<a href=\"https://colab.research.google.com/github/Oluwadara-Adepoju/Womxn/blob/main/Womxn.ipynb\" target=\"_parent\"><img src=\"https://colab.research.google.com/assets/colab-badge.svg\" alt=\"Open In Colab\"/></a>"
      ]
    },
    {
      "cell_type": "code",
      "metadata": {
        "colab": {
          "base_uri": "https://localhost:8080/"
        },
        "id": "wu5sK2XBEmF1",
        "outputId": "8adc31de-8b1c-471e-8b41-0e95cdaf076e"
      },
      "source": [
        "from google.colab import drive\n",
        "drive.mount('/content/drive')"
      ],
      "execution_count": 1,
      "outputs": [
        {
          "output_type": "stream",
          "text": [
            "Mounted at /content/drive\n"
          ],
          "name": "stdout"
        }
      ]
    },
    {
      "cell_type": "code",
      "metadata": {
        "id": "phAE2_jFFzIU"
      },
      "source": [
        "from sklearn.model_selection import train_test_split\n",
        "from sklearn.linear_model import LogisticRegression\n",
        "from sklearn.ensemble import RandomForestClassifier\n",
        "from sklearn.metrics import accuracy_score,  mean_squared_error, f1_score, roc_auc_score\n",
        "\n",
        "from sklearn.preprocessing import LabelEncoder\n",
        "\n",
        "label = LabelEncoder()"
      ],
      "execution_count": 2,
      "outputs": []
    },
    {
      "cell_type": "code",
      "metadata": {
        "colab": {
          "base_uri": "https://localhost:8080/"
        },
        "id": "8hqFs8xPaGii",
        "outputId": "1c6c4578-f447-4269-c704-cfe10d71a96e"
      },
      "source": [
        "!pip install catboost==0.22 --quiet"
      ],
      "execution_count": 3,
      "outputs": [
        {
          "output_type": "stream",
          "text": [
            "\u001b[K     |████████████████████████████████| 64.4MB 102kB/s \n",
            "\u001b[?25h"
          ],
          "name": "stdout"
        }
      ]
    },
    {
      "cell_type": "code",
      "metadata": {
        "id": "VYhZLuzhFzLC"
      },
      "source": [
        "import os, sys, gc, warnings, random\n",
        "import numpy as np \n",
        "import pandas as pd \n",
        "from sklearn.model_selection import StratifiedKFold\n",
        "from sklearn import preprocessing\n",
        "import lightgbm as lgb  \n",
        "from catboost import CatBoostClassifier ,Pool\n",
        "\n",
        "from sklearn.metrics import auc, classification_report, roc_auc_score\n",
        "from lightgbm import LGBMClassifier\n",
        "from sklearn.ensemble import RandomForestClassifier\n",
        "\n",
        "import matplotlib.pyplot as plt\n",
        "import seaborn as sns\n",
        "%matplotlib inline\n",
        "\n",
        "import warnings\n",
        "warnings.filterwarnings('ignore')"
      ],
      "execution_count": 4,
      "outputs": []
    },
    {
      "cell_type": "code",
      "metadata": {
        "id": "DBYLK1vZVVGd"
      },
      "source": [
        "class CFG :\n",
        "  SEED = 42\n",
        "  n_splits = 10\n",
        "  catboost_params = {'iterations':10000,'eval_metric':'AUC',\n",
        "                      'use_best_model' :True,'verbose':100}#'task_type':\"GPU\",}\n",
        "\n",
        "  lgb_params = {'boosting_type': 'gbdt','objective': 'binary','metric': 'auc',\n",
        "                'n_estimators': 5000,'sub_sample' : 0.5,'colsample_bytree' : 0.9,\n",
        "                'seed': SEED,'silent':False,'early_stopping_rounds': 100,'num_leaves':120}\n",
        "                \n",
        "  xgb_params = {\n",
        "              'learning_rate':0.1,  'max_depth':7,\n",
        "              'n_estimators':100, 'n_jobs': -1,\n",
        "              'objective':'binary:logistic', 'random_state':SEED, 'verbosity':100,'eval_metric':'auc'}\n",
        "\n",
        "               \n",
        "  remove_features = ['ID', 'gender', 'target']\n",
        "  categ_features = ['race','dwelling','dwelling_type','province_code','metro_code','nationality','RTH','marital_st','Lang_inside','Lang_outside','Education','lw_work','lw_business','help_on_household','job_or_business','nature_of_work']\n",
        "  TARGET_COL = 'target'"
      ],
      "execution_count": 72,
      "outputs": []
    },
    {
      "cell_type": "code",
      "metadata": {
        "id": "-7TtUXecVVKE"
      },
      "source": [
        "def seed_everything(seed):\n",
        "    random.seed(seed)\n",
        "    np.random.seed(seed)"
      ],
      "execution_count": 54,
      "outputs": []
    },
    {
      "cell_type": "code",
      "metadata": {
        "id": "7uSinArpFzNz"
      },
      "source": [
        "train= pd.read_csv ( \"/content/drive/My Drive/Colab Notebooks/Women/Train (2).csv\")\n",
        "test = pd.read_csv(\"/content/drive/My Drive/Colab Notebooks/Women/Test (1).csv\")\n",
        "vd = pd.read_csv ( \"/content/drive/My Drive/Colab Notebooks/Women/VariableDefinitions.csv\")\n",
        "ss=pd.read_csv ( \"/content/drive/My Drive/Colab Notebooks/Women/SampleSubmission (1).csv\")"
      ],
      "execution_count": 7,
      "outputs": []
    },
    {
      "cell_type": "code",
      "metadata": {
        "id": "jzfcP-oAZAGR"
      },
      "source": [
        "seed_everything(CFG.SEED)"
      ],
      "execution_count": 8,
      "outputs": []
    },
    {
      "cell_type": "code",
      "metadata": {
        "id": "q8cwPYUCjGhX"
      },
      "source": [
        "train['gender'] = label.fit_transform(train['gender'])\n",
        "train['race'] = label.fit_transform(train['race'])\n",
        "train['dwelling'] = label.fit_transform(train['dwelling'])\n",
        "train['dwelling_type'] = label.fit_transform(train['dwelling_type'])\n",
        "train['province_code'] = label.fit_transform(train['province_code'])\n",
        "train['metro_code'] = label.fit_transform(train['metro_code'])\n",
        "train['nationality'] = label.fit_transform(train['nationality'])\n",
        "train['RTH'] = label.fit_transform(train['RTH'])\n",
        "train['marital_st'] = label.fit_transform(train['marital_st'])\n",
        "train['Lang_inside'] = label.fit_transform(train['Lang_inside'])\n",
        "train['Lang_outside'] = label.fit_transform(train['Lang_outside'])\n",
        "train['Education'] = label.fit_transform(train['Education'])\n",
        "train['lw_work'] = label.fit_transform(train['lw_work'])\n",
        "train['lw_business'] = label.fit_transform(train['lw_business'])\n",
        "train['help_on_household'] = label.fit_transform(train['help_on_household'])\n",
        "train['job_or_business'] = label.fit_transform(train['job_or_business'])\n",
        "train['nature_of_work'] = label.fit_transform(train['nature_of_work'])\n"
      ],
      "execution_count": 9,
      "outputs": []
    },
    {
      "cell_type": "code",
      "metadata": {
        "id": "Fh9zoBA0ju3G"
      },
      "source": [
        "test['gender'] = label.fit_transform(test['gender'])\n",
        "test['race'] = label.fit_transform(test['race'])\n",
        "test['dwelling'] = label.fit_transform(test['dwelling'])\n",
        "test['dwelling_type'] = label.fit_transform(test['dwelling_type'])\n",
        "test['province_code'] = label.fit_transform(test['province_code'])\n",
        "test['metro_code'] = label.fit_transform(test['metro_code'])\n",
        "test['nationality'] = label.fit_transform(test['nationality'])\n",
        "test['RTH'] = label.fit_transform(test['RTH'])\n",
        "test['marital_st'] = label.fit_transform(test['marital_st'])\n",
        "test['Lang_inside'] = label.fit_transform(test['Lang_inside'])\n",
        "test['Lang_outside'] = label.fit_transform(test['Lang_outside'])\n",
        "test['Education'] = label.fit_transform(test['Education'])\n",
        "test['lw_work'] = label.fit_transform(test['lw_work'])\n",
        "test['lw_business'] = label.fit_transform(test['lw_business'])\n",
        "test['help_on_household'] = label.fit_transform(test['help_on_household'])\n",
        "test['job_or_business'] = label.fit_transform(test['job_or_business'])\n",
        "test['nature_of_work'] = label.fit_transform(test['nature_of_work'])"
      ],
      "execution_count": 10,
      "outputs": []
    },
    {
      "cell_type": "code",
      "metadata": {
        "colab": {
          "base_uri": "https://localhost:8080/"
        },
        "id": "FNevu-83ZAC7",
        "outputId": "a89aa21a-72b0-4b3a-cbe8-1d1f2ff7ea25"
      },
      "source": [
        "features_columns = [col for col in train.columns if col not in CFG.remove_features]\n",
        "len(features_columns)"
      ],
      "execution_count": 11,
      "outputs": [
        {
          "output_type": "execute_result",
          "data": {
            "text/plain": [
              "18"
            ]
          },
          "metadata": {
            "tags": []
          },
          "execution_count": 11
        }
      ]
    },
    {
      "cell_type": "code",
      "metadata": {
        "id": "CFtlkebBikh6"
      },
      "source": [
        ""
      ],
      "execution_count": 11,
      "outputs": []
    },
    {
      "cell_type": "code",
      "metadata": {
        "colab": {
          "base_uri": "https://localhost:8080/"
        },
        "id": "3Jm5a8aHZAAv",
        "outputId": "ec5ff1ee-0fa9-4539-f521-51a990cfe284"
      },
      "source": [
        "skf = StratifiedKFold(n_splits=CFG.n_splits,shuffle=True, random_state=CFG.SEED)\n",
        "\n",
        "X , y   = train[features_columns] , train[CFG.TARGET_COL]\n",
        "\n",
        "oof_cat = np.zeros((train.shape[0],))\n",
        "test['target'] = 0\n",
        "cat_preds= []\n",
        "\n",
        "for fold_, (trn_idx, val_idx) in enumerate(skf.split(X, y)):\n",
        "    print(50*'-')\n",
        "    print('Fold:',fold_+1)\n",
        "    X_train, y_train = X.iloc[trn_idx,:], y[trn_idx] \n",
        "    X_test, y_test = X.iloc[val_idx,:], y[val_idx] \n",
        "       \n",
        "    estimator = CatBoostClassifier(**CFG.catboost_params)\n",
        "    estimator.fit(Pool(X_train,y_train,cat_features = CFG.categ_features),\n",
        "                  eval_set = Pool(X_test,y_test,cat_features = CFG.categ_features),\n",
        "                  early_stopping_rounds=200)\n",
        "    \n",
        "    y_pred_val = estimator.predict_proba(X_test)[:,1]\n",
        "    oof_cat[val_idx] = y_pred_val\n",
        "    y_pred_test = estimator.predict_proba(test[features_columns])[:,1]\n",
        "    cat_preds.append(y_pred_test)\n",
        "    print(50*'-')\n",
        "    print()\n",
        "print('OOF score :',roc_auc_score(y, oof_cat))"
      ],
      "execution_count": 73,
      "outputs": [
        {
          "output_type": "stream",
          "text": [
            "--------------------------------------------------\n",
            "Fold: 1\n",
            "Learning rate set to 0.018796\n",
            "0:\ttest: 0.5747899\tbest: 0.5747899 (0)\ttotal: 29.7ms\tremaining: 4m 56s\n",
            "100:\ttest: 0.6235061\tbest: 0.6235061 (100)\ttotal: 1.48s\tremaining: 2m 25s\n",
            "200:\ttest: 0.6511671\tbest: 0.6511671 (200)\ttotal: 4.18s\tremaining: 3m 23s\n",
            "300:\ttest: 0.6504669\tbest: 0.6513539 (299)\ttotal: 7.03s\tremaining: 3m 46s\n",
            "400:\ttest: 0.6522409\tbest: 0.6544118 (376)\ttotal: 9.89s\tremaining: 3m 56s\n",
            "500:\ttest: 0.6539216\tbest: 0.6550187 (494)\ttotal: 13s\tremaining: 4m 6s\n",
            "600:\ttest: 0.6548086\tbest: 0.6569795 (571)\ttotal: 16.3s\tremaining: 4m 15s\n",
            "700:\ttest: 0.6518207\tbest: 0.6569795 (571)\ttotal: 19.7s\tremaining: 4m 21s\n",
            "Stopped by overfitting detector  (200 iterations wait)\n",
            "\n",
            "bestTest = 0.6569794585\n",
            "bestIteration = 571\n",
            "\n",
            "Shrink model to first 572 iterations.\n",
            "--------------------------------------------------\n",
            "\n",
            "--------------------------------------------------\n",
            "Fold: 2\n",
            "Learning rate set to 0.018796\n",
            "0:\ttest: 0.5908077\tbest: 0.5908077 (0)\ttotal: 29.6ms\tremaining: 4m 55s\n",
            "100:\ttest: 0.6636010\tbest: 0.6662796 (99)\ttotal: 1.49s\tremaining: 2m 25s\n",
            "200:\ttest: 0.6936404\tbest: 0.6936404 (200)\ttotal: 4.05s\tremaining: 3m 17s\n",
            "300:\ttest: 0.6976525\tbest: 0.6976755 (299)\ttotal: 6.96s\tremaining: 3m 44s\n",
            "400:\ttest: 0.7018831\tbest: 0.7022739 (397)\ttotal: 9.77s\tremaining: 3m 53s\n",
            "500:\ttest: 0.7066884\tbest: 0.7077691 (469)\ttotal: 12.9s\tremaining: 4m 4s\n",
            "600:\ttest: 0.7096199\tbest: 0.7102407 (584)\ttotal: 16.2s\tremaining: 4m 13s\n",
            "700:\ttest: 0.7127009\tbest: 0.7140115 (658)\ttotal: 19.5s\tremaining: 4m 18s\n",
            "800:\ttest: 0.7129538\tbest: 0.7140115 (658)\ttotal: 22.8s\tremaining: 4m 22s\n",
            "900:\ttest: 0.7130458\tbest: 0.7145403 (818)\ttotal: 26.1s\tremaining: 4m 24s\n",
            "1000:\ttest: 0.7124250\tbest: 0.7145403 (818)\ttotal: 29.5s\tremaining: 4m 24s\n",
            "Stopped by overfitting detector  (200 iterations wait)\n",
            "\n",
            "bestTest = 0.7145402708\n",
            "bestIteration = 818\n",
            "\n",
            "Shrink model to first 819 iterations.\n",
            "--------------------------------------------------\n",
            "\n",
            "--------------------------------------------------\n",
            "Fold: 3\n",
            "Learning rate set to 0.018796\n",
            "0:\ttest: 0.5972340\tbest: 0.5972340 (0)\ttotal: 28.5ms\tremaining: 4m 45s\n",
            "100:\ttest: 0.6451153\tbest: 0.6523579 (94)\ttotal: 1.34s\tremaining: 2m 11s\n",
            "200:\ttest: 0.6540593\tbest: 0.6567034 (116)\ttotal: 4.06s\tremaining: 3m 17s\n",
            "300:\ttest: 0.6598648\tbest: 0.6598648 (300)\ttotal: 6.95s\tremaining: 3m 43s\n",
            "400:\ttest: 0.6624054\tbest: 0.6631642 (377)\ttotal: 9.96s\tremaining: 3m 58s\n",
            "500:\ttest: 0.6653025\tbest: 0.6664981 (462)\ttotal: 13.1s\tremaining: 4m 7s\n",
            "600:\ttest: 0.6693951\tbest: 0.6706596 (595)\ttotal: 16.4s\tremaining: 4m 17s\n",
            "700:\ttest: 0.6653944\tbest: 0.6706596 (595)\ttotal: 19.8s\tremaining: 4m 22s\n",
            "Stopped by overfitting detector  (200 iterations wait)\n",
            "\n",
            "bestTest = 0.6706596464\n",
            "bestIteration = 595\n",
            "\n",
            "Shrink model to first 596 iterations.\n",
            "--------------------------------------------------\n",
            "\n",
            "--------------------------------------------------\n",
            "Fold: 4\n",
            "Learning rate set to 0.018796\n",
            "0:\ttest: 0.6563240\tbest: 0.6563240 (0)\ttotal: 37.3ms\tremaining: 6m 13s\n",
            "100:\ttest: 0.7064240\tbest: 0.7161727 (91)\ttotal: 1.43s\tremaining: 2m 19s\n",
            "200:\ttest: 0.7049640\tbest: 0.7161727 (91)\ttotal: 4.21s\tremaining: 3m 25s\n",
            "Stopped by overfitting detector  (200 iterations wait)\n",
            "\n",
            "bestTest = 0.7161727174\n",
            "bestIteration = 91\n",
            "\n",
            "Shrink model to first 92 iterations.\n",
            "--------------------------------------------------\n",
            "\n",
            "--------------------------------------------------\n",
            "Fold: 5\n",
            "Learning rate set to 0.018796\n",
            "0:\ttest: 0.5312924\tbest: 0.5312924 (0)\ttotal: 28.4ms\tremaining: 4m 43s\n",
            "100:\ttest: 0.5764721\tbest: 0.5780011 (99)\ttotal: 1.49s\tremaining: 2m 25s\n",
            "200:\ttest: 0.5974640\tbest: 0.6002575 (144)\ttotal: 4.21s\tremaining: 3m 25s\n",
            "300:\ttest: 0.6006484\tbest: 0.6022348 (292)\ttotal: 7.24s\tremaining: 3m 53s\n",
            "400:\ttest: 0.6068793\tbest: 0.6068793 (400)\ttotal: 10.2s\tremaining: 4m 3s\n",
            "500:\ttest: 0.6111788\tbest: 0.6119835 (491)\ttotal: 13.4s\tremaining: 4m 14s\n",
            "600:\ttest: 0.6135010\tbest: 0.6149265 (546)\ttotal: 16.8s\tremaining: 4m 22s\n",
            "700:\ttest: 0.6111558\tbest: 0.6149265 (546)\ttotal: 20.1s\tremaining: 4m 27s\n",
            "Stopped by overfitting detector  (200 iterations wait)\n",
            "\n",
            "bestTest = 0.6149265399\n",
            "bestIteration = 546\n",
            "\n",
            "Shrink model to first 547 iterations.\n",
            "--------------------------------------------------\n",
            "\n",
            "--------------------------------------------------\n",
            "Fold: 6\n",
            "Learning rate set to 0.018796\n",
            "0:\ttest: 0.5728968\tbest: 0.5728968 (0)\ttotal: 32.1ms\tremaining: 5m 20s\n",
            "100:\ttest: 0.6331479\tbest: 0.6331479 (100)\ttotal: 1.57s\tremaining: 2m 33s\n",
            "200:\ttest: 0.6390224\tbest: 0.6400225 (188)\ttotal: 4.08s\tremaining: 3m 19s\n",
            "300:\ttest: 0.6406088\tbest: 0.6424712 (250)\ttotal: 7s\tremaining: 3m 45s\n",
            "400:\ttest: 0.6403559\tbest: 0.6424712 (250)\ttotal: 9.92s\tremaining: 3m 57s\n",
            "Stopped by overfitting detector  (200 iterations wait)\n",
            "\n",
            "bestTest = 0.6424712023\n",
            "bestIteration = 250\n",
            "\n",
            "Shrink model to first 251 iterations.\n",
            "--------------------------------------------------\n",
            "\n",
            "--------------------------------------------------\n",
            "Fold: 7\n",
            "Learning rate set to 0.018797\n",
            "0:\ttest: 0.4431627\tbest: 0.4431627 (0)\ttotal: 39.5ms\tremaining: 6m 34s\n",
            "100:\ttest: 0.5913628\tbest: 0.5929523 (90)\ttotal: 1.49s\tremaining: 2m 26s\n",
            "200:\ttest: 0.6299673\tbest: 0.6345372 (153)\ttotal: 4.17s\tremaining: 3m 23s\n",
            "300:\ttest: 0.6382422\tbest: 0.6389201 (297)\ttotal: 7.06s\tremaining: 3m 47s\n",
            "400:\ttest: 0.6404862\tbest: 0.6409303 (398)\ttotal: 10.1s\tremaining: 4m 2s\n",
            "500:\ttest: 0.6424264\tbest: 0.6427069 (473)\ttotal: 13.3s\tremaining: 4m 11s\n",
            "600:\ttest: 0.6461431\tbest: 0.6473820 (567)\ttotal: 16.6s\tremaining: 4m 19s\n",
            "700:\ttest: 0.6498364\tbest: 0.6504208 (697)\ttotal: 19.9s\tremaining: 4m 24s\n",
            "800:\ttest: 0.6501636\tbest: 0.6506779 (796)\ttotal: 23.3s\tremaining: 4m 27s\n",
            "900:\ttest: 0.6474053\tbest: 0.6506779 (796)\ttotal: 26.6s\tremaining: 4m 28s\n",
            "Stopped by overfitting detector  (200 iterations wait)\n",
            "\n",
            "bestTest = 0.6506778869\n",
            "bestIteration = 796\n",
            "\n",
            "Shrink model to first 797 iterations.\n",
            "--------------------------------------------------\n",
            "\n",
            "--------------------------------------------------\n",
            "Fold: 8\n",
            "Learning rate set to 0.018797\n",
            "0:\ttest: 0.5399252\tbest: 0.5399252 (0)\ttotal: 32.2ms\tremaining: 5m 22s\n",
            "100:\ttest: 0.6711547\tbest: 0.6711547 (100)\ttotal: 1.56s\tremaining: 2m 32s\n",
            "200:\ttest: 0.6647499\tbest: 0.6711547 (100)\ttotal: 4.07s\tremaining: 3m 18s\n",
            "300:\ttest: 0.6658252\tbest: 0.6711547 (100)\ttotal: 7.11s\tremaining: 3m 49s\n",
            "Stopped by overfitting detector  (200 iterations wait)\n",
            "\n",
            "bestTest = 0.6711547452\n",
            "bestIteration = 100\n",
            "\n",
            "Shrink model to first 101 iterations.\n",
            "--------------------------------------------------\n",
            "\n",
            "--------------------------------------------------\n",
            "Fold: 9\n",
            "Learning rate set to 0.018797\n",
            "0:\ttest: 0.5084151\tbest: 0.5084151 (0)\ttotal: 10.9ms\tremaining: 1m 49s\n",
            "100:\ttest: 0.6091982\tbest: 0.6195886 (89)\ttotal: 1.67s\tremaining: 2m 43s\n",
            "200:\ttest: 0.6141421\tbest: 0.6200094 (154)\ttotal: 4.51s\tremaining: 3m 39s\n",
            "300:\ttest: 0.6192847\tbest: 0.6200094 (154)\ttotal: 7.53s\tremaining: 4m 2s\n",
            "400:\ttest: 0.6235624\tbest: 0.6235624 (400)\ttotal: 10.4s\tremaining: 4m 9s\n",
            "500:\ttest: 0.6307854\tbest: 0.6310425 (498)\ttotal: 13.5s\tremaining: 4m 16s\n",
            "600:\ttest: 0.6278635\tbest: 0.6310425 (498)\ttotal: 16.9s\tremaining: 4m 23s\n",
            "Stopped by overfitting detector  (200 iterations wait)\n",
            "\n",
            "bestTest = 0.6310425432\n",
            "bestIteration = 498\n",
            "\n",
            "Shrink model to first 499 iterations.\n",
            "--------------------------------------------------\n",
            "\n",
            "--------------------------------------------------\n",
            "Fold: 10\n",
            "Learning rate set to 0.018797\n",
            "0:\ttest: 0.5321646\tbest: 0.5321646 (0)\ttotal: 39.6ms\tremaining: 6m 36s\n",
            "100:\ttest: 0.6259350\tbest: 0.6259350 (100)\ttotal: 1.57s\tremaining: 2m 34s\n",
            "200:\ttest: 0.6448574\tbest: 0.6525245 (122)\ttotal: 4.17s\tremaining: 3m 23s\n",
            "300:\ttest: 0.6451847\tbest: 0.6525245 (122)\ttotal: 7.1s\tremaining: 3m 48s\n",
            "Stopped by overfitting detector  (200 iterations wait)\n",
            "\n",
            "bestTest = 0.6525245442\n",
            "bestIteration = 122\n",
            "\n",
            "Shrink model to first 123 iterations.\n",
            "--------------------------------------------------\n",
            "\n",
            "OOF score : 0.6304265742289226\n"
          ],
          "name": "stdout"
        }
      ]
    },
    {
      "cell_type": "code",
      "metadata": {
        "id": "coyEjzMpY_8-"
      },
      "source": [
        "catboost_preds = np.mean(cat_preds,axis=0)"
      ],
      "execution_count": 56,
      "outputs": []
    },
    {
      "cell_type": "code",
      "metadata": {
        "colab": {
          "base_uri": "https://localhost:8080/"
        },
        "id": "HFFNcW9chRh4",
        "outputId": "c48891a3-5e62-490d-8758-3194a6a0e046"
      },
      "source": [
        "skf = StratifiedKFold(n_splits=CFG.n_splits,shuffle=True, random_state=CFG.SEED)\n",
        "\n",
        "X , y   = train[features_columns] , train[CFG.TARGET_COL]\n",
        "\n",
        "oof_lgb = np.zeros((train.shape[0],))\n",
        "test['target'] = 0\n",
        "lgb_preds = []\n",
        "\n",
        "for fold_, (trn_idx, val_idx) in enumerate(skf.split(X, y)):\n",
        "    print(50*'-')\n",
        "    print('Fold:',fold_+1)\n",
        "\n",
        "    tr_x, tr_y = X.iloc[trn_idx,:], y[trn_idx] \n",
        "    vl_x, vl_y = X.iloc[val_idx,:], y[val_idx] \n",
        "        \n",
        "    train_data = lgb.Dataset(tr_x, label=tr_y,categorical_feature=CFG.categ_features)\n",
        "    valid_data = lgb.Dataset(vl_x, label=vl_y,categorical_feature=CFG.categ_features)\n",
        "\n",
        "    estimator = lgb.train(CFG.lgb_params,train_data,valid_sets = [train_data,valid_data],verbose_eval = 100)\n",
        "    \n",
        "    y_pred_val = estimator.predict(vl_x,num_iteration=estimator.best_iteration)\n",
        "    oof_lgb[val_idx] = y_pred_val\n",
        "    \n",
        "    y_pred_test = estimator.predict(test[features_columns],num_iteration=estimator.best_iteration)\n",
        "    lgb_preds.append(y_pred_test)\n",
        "    print(50*'-')\n",
        "\n",
        "print('OOF score :',roc_auc_score(y, oof_lgb))"
      ],
      "execution_count": 58,
      "outputs": [
        {
          "output_type": "stream",
          "text": [
            "--------------------------------------------------\n",
            "Fold: 1\n",
            "Training until validation scores don't improve for 100 rounds.\n",
            "[100]\ttraining's auc: 0.999995\tvalid_1's auc: 0.646639\n",
            "Early stopping, best iteration is:\n",
            "[27]\ttraining's auc: 0.989368\tvalid_1's auc: 0.65852\n",
            "--------------------------------------------------\n",
            "--------------------------------------------------\n",
            "Fold: 2\n",
            "Training until validation scores don't improve for 100 rounds.\n",
            "[100]\ttraining's auc: 0.999993\tvalid_1's auc: 0.737291\n",
            "Early stopping, best iteration is:\n",
            "[54]\ttraining's auc: 0.999513\tvalid_1's auc: 0.742786\n",
            "--------------------------------------------------\n",
            "--------------------------------------------------\n",
            "Fold: 3\n",
            "Training until validation scores don't improve for 100 rounds.\n",
            "[100]\ttraining's auc: 0.999996\tvalid_1's auc: 0.62456\n",
            "Early stopping, best iteration is:\n",
            "[28]\ttraining's auc: 0.990301\tvalid_1's auc: 0.651898\n",
            "--------------------------------------------------\n",
            "--------------------------------------------------\n",
            "Fold: 4\n",
            "Training until validation scores don't improve for 100 rounds.\n",
            "[100]\ttraining's auc: 0.999993\tvalid_1's auc: 0.658359\n",
            "Early stopping, best iteration is:\n",
            "[17]\ttraining's auc: 0.961778\tvalid_1's auc: 0.680983\n",
            "--------------------------------------------------\n",
            "--------------------------------------------------\n",
            "Fold: 5\n",
            "Training until validation scores don't improve for 100 rounds.\n",
            "[100]\ttraining's auc: 0.999996\tvalid_1's auc: 0.548203\n",
            "Early stopping, best iteration is:\n",
            "[1]\ttraining's auc: 0.791996\tvalid_1's auc: 0.620054\n",
            "--------------------------------------------------\n",
            "--------------------------------------------------\n",
            "Fold: 6\n",
            "Training until validation scores don't improve for 100 rounds.\n",
            "[100]\ttraining's auc: 0.99999\tvalid_1's auc: 0.642103\n",
            "Early stopping, best iteration is:\n",
            "[3]\ttraining's auc: 0.858424\tvalid_1's auc: 0.687226\n",
            "--------------------------------------------------\n",
            "--------------------------------------------------\n",
            "Fold: 7\n",
            "Training until validation scores don't improve for 100 rounds.\n",
            "[100]\ttraining's auc: 0.999996\tvalid_1's auc: 0.675514\n",
            "Early stopping, best iteration is:\n",
            "[27]\ttraining's auc: 0.9875\tvalid_1's auc: 0.688277\n",
            "--------------------------------------------------\n",
            "--------------------------------------------------\n",
            "Fold: 8\n",
            "Training until validation scores don't improve for 100 rounds.\n",
            "[100]\ttraining's auc: 0.999993\tvalid_1's auc: 0.636068\n",
            "Early stopping, best iteration is:\n",
            "[1]\ttraining's auc: 0.793038\tvalid_1's auc: 0.641877\n",
            "--------------------------------------------------\n",
            "--------------------------------------------------\n",
            "Fold: 9\n",
            "Training until validation scores don't improve for 100 rounds.\n",
            "[100]\ttraining's auc: 0.999995\tvalid_1's auc: 0.633474\n",
            "Early stopping, best iteration is:\n",
            "[25]\ttraining's auc: 0.979293\tvalid_1's auc: 0.654722\n",
            "--------------------------------------------------\n",
            "--------------------------------------------------\n",
            "Fold: 10\n",
            "Training until validation scores don't improve for 100 rounds.\n",
            "[100]\ttraining's auc: 0.999993\tvalid_1's auc: 0.617017\n",
            "Early stopping, best iteration is:\n",
            "[5]\ttraining's auc: 0.874956\tvalid_1's auc: 0.642765\n",
            "--------------------------------------------------\n",
            "OOF score : 0.6560859290885681\n"
          ],
          "name": "stdout"
        }
      ]
    },
    {
      "cell_type": "code",
      "metadata": {
        "colab": {
          "base_uri": "https://localhost:8080/"
        },
        "id": "modr7L1SIw0m",
        "outputId": "124dde4a-82d4-4da6-cb48-e90f55b3fa27"
      },
      "source": [
        "from xgboost import XGBClassifier\n",
        "skf = StratifiedKFold(n_splits=CFG.n_splits,shuffle=True, random_state=CFG.SEED)\n",
        "\n",
        "X , y   = train[features_columns] , train[CFG.TARGET_COL]\n",
        "\n",
        "oof_xgb = np.zeros((train.shape[0],))\n",
        "test['target'] = 0\n",
        "xgb_preds = []\n",
        "\n",
        "for fold_, (trn_idx, val_idx) in enumerate(skf.split(X, y)):\n",
        "    print(50*'-')\n",
        "    print('Fold:',fold_+1)\n",
        "\n",
        "    tr_x, tr_y = X.iloc[trn_idx,:], y[trn_idx] \n",
        "    vl_x, vl_y = X.iloc[val_idx,:], y[val_idx] \n",
        "\n",
        "    xgb=XGBClassifier(learning_rate=0.01,subsample=0.7,colsample_bytree=0.9,reg_alpha=10,\n",
        "               n_jobs=-1,n_estimators=5000,max_depth= 5,random_state=34)\n",
        "    estimator = xgb.fit(tr_x, tr_y, early_stopping_rounds = 200, eval_metric=\"auc\",\n",
        "                           eval_set=[(vl_x, vl_y)],verbose=250)\n",
        "    train_predict = estimator.predict_proba(tr_x, ntree_limit = estimator.get_booster().best_ntree_limit)[:,1]\n",
        "    \n",
        "  \n",
        "        \n",
        "  \n",
        "    y_pred_val = estimator.predict_proba(vl_x, ntree_limit = estimator.get_booster().best_ntree_limit)[:,1]\n",
        "    oof_xgb[val_idx] = y_pred_val\n",
        "    \n",
        "    y_pred_test = estimator.predict(test[features_columns], ntree_limit = estimator.get_booster().best_ntree_limit)\n",
        "    xgb_preds.append(y_pred_test)\n",
        "    print(50*'-')\n",
        "\n",
        "print('OOF score :',roc_auc_score(y, oof_xgb))"
      ],
      "execution_count": 59,
      "outputs": [
        {
          "output_type": "stream",
          "text": [
            "--------------------------------------------------\n",
            "Fold: 1\n",
            "[0]\tvalidation_0-auc:0.5\n",
            "Will train until validation_0-auc hasn't improved in 200 rounds.\n",
            "[250]\tvalidation_0-auc:0.590558\n",
            "[500]\tvalidation_0-auc:0.625163\n",
            "[750]\tvalidation_0-auc:0.641573\n",
            "[1000]\tvalidation_0-auc:0.648366\n",
            "[1250]\tvalidation_0-auc:0.652194\n",
            "[1500]\tvalidation_0-auc:0.654015\n",
            "[1750]\tvalidation_0-auc:0.654902\n",
            "[2000]\tvalidation_0-auc:0.658193\n",
            "[2250]\tvalidation_0-auc:0.659781\n",
            "[2500]\tvalidation_0-auc:0.659314\n",
            "Stopping. Best iteration:\n",
            "[2336]\tvalidation_0-auc:0.660294\n",
            "\n",
            "--------------------------------------------------\n",
            "--------------------------------------------------\n",
            "Fold: 2\n",
            "[0]\tvalidation_0-auc:0.5\n",
            "Will train until validation_0-auc hasn't improved in 200 rounds.\n",
            "[250]\tvalidation_0-auc:0.646391\n",
            "[500]\tvalidation_0-auc:0.666464\n",
            "[750]\tvalidation_0-auc:0.680822\n",
            "[1000]\tvalidation_0-auc:0.69356\n",
            "[1250]\tvalidation_0-auc:0.703883\n",
            "[1500]\tvalidation_0-auc:0.707493\n",
            "[1750]\tvalidation_0-auc:0.712597\n",
            "[2000]\tvalidation_0-auc:0.715839\n",
            "[2250]\tvalidation_0-auc:0.72076\n",
            "[2500]\tvalidation_0-auc:0.722346\n",
            "[2750]\tvalidation_0-auc:0.722668\n",
            "Stopping. Best iteration:\n",
            "[2608]\tvalidation_0-auc:0.723749\n",
            "\n",
            "--------------------------------------------------\n",
            "--------------------------------------------------\n",
            "Fold: 3\n",
            "[0]\tvalidation_0-auc:0.5\n",
            "Will train until validation_0-auc hasn't improved in 200 rounds.\n",
            "[250]\tvalidation_0-auc:0.636528\n",
            "[500]\tvalidation_0-auc:0.651231\n",
            "[750]\tvalidation_0-auc:0.659003\n",
            "[1000]\tvalidation_0-auc:0.662199\n",
            "[1250]\tvalidation_0-auc:0.666728\n",
            "[1500]\tvalidation_0-auc:0.669165\n",
            "[1750]\tvalidation_0-auc:0.669257\n",
            "Stopping. Best iteration:\n",
            "[1659]\tvalidation_0-auc:0.670867\n",
            "\n",
            "--------------------------------------------------\n",
            "--------------------------------------------------\n",
            "Fold: 4\n",
            "[0]\tvalidation_0-auc:0.5\n",
            "Will train until validation_0-auc hasn't improved in 200 rounds.\n",
            "[250]\tvalidation_0-auc:0.674695\n",
            "[500]\tvalidation_0-auc:0.682363\n",
            "Stopping. Best iteration:\n",
            "[364]\tvalidation_0-auc:0.684087\n",
            "\n",
            "--------------------------------------------------\n",
            "--------------------------------------------------\n",
            "Fold: 5\n",
            "[0]\tvalidation_0-auc:0.5\n",
            "Will train until validation_0-auc hasn't improved in 200 rounds.\n",
            "[250]\tvalidation_0-auc:0.585876\n",
            "Stopping. Best iteration:\n",
            "[173]\tvalidation_0-auc:0.605132\n",
            "\n",
            "--------------------------------------------------\n",
            "--------------------------------------------------\n",
            "Fold: 6\n",
            "[0]\tvalidation_0-auc:0.5\n",
            "Will train until validation_0-auc hasn't improved in 200 rounds.\n",
            "[250]\tvalidation_0-auc:0.638804\n",
            "Stopping. Best iteration:\n",
            "[258]\tvalidation_0-auc:0.641092\n",
            "\n",
            "--------------------------------------------------\n",
            "--------------------------------------------------\n",
            "Fold: 7\n",
            "[0]\tvalidation_0-auc:0.497195\n",
            "Will train until validation_0-auc hasn't improved in 200 rounds.\n",
            "[250]\tvalidation_0-auc:0.597207\n",
            "[500]\tvalidation_0-auc:0.615054\n",
            "[750]\tvalidation_0-auc:0.633322\n",
            "[1000]\tvalidation_0-auc:0.646716\n",
            "[1250]\tvalidation_0-auc:0.650175\n",
            "[1500]\tvalidation_0-auc:0.653167\n",
            "[1750]\tvalidation_0-auc:0.655692\n",
            "[2000]\tvalidation_0-auc:0.660063\n",
            "Stopping. Best iteration:\n",
            "[2004]\tvalidation_0-auc:0.660227\n",
            "\n",
            "--------------------------------------------------\n",
            "--------------------------------------------------\n",
            "Fold: 8\n",
            "[0]\tvalidation_0-auc:0.5\n",
            "Will train until validation_0-auc hasn't improved in 200 rounds.\n",
            "[250]\tvalidation_0-auc:0.609689\n",
            "[500]\tvalidation_0-auc:0.623843\n",
            "[750]\tvalidation_0-auc:0.634058\n",
            "[1000]\tvalidation_0-auc:0.63913\n",
            "[1250]\tvalidation_0-auc:0.639388\n",
            "[1500]\tvalidation_0-auc:0.63899\n",
            "Stopping. Best iteration:\n",
            "[1320]\tvalidation_0-auc:0.641281\n",
            "\n",
            "--------------------------------------------------\n",
            "--------------------------------------------------\n",
            "Fold: 9\n",
            "[0]\tvalidation_0-auc:0.5\n",
            "Will train until validation_0-auc hasn't improved in 200 rounds.\n",
            "[250]\tvalidation_0-auc:0.583427\n",
            "[500]\tvalidation_0-auc:0.612179\n",
            "[750]\tvalidation_0-auc:0.617952\n",
            "[1000]\tvalidation_0-auc:0.623235\n",
            "[1250]\tvalidation_0-auc:0.628331\n",
            "[1500]\tvalidation_0-auc:0.630972\n",
            "[1750]\tvalidation_0-auc:0.633801\n",
            "[2000]\tvalidation_0-auc:0.634502\n",
            "Stopping. Best iteration:\n",
            "[1944]\tvalidation_0-auc:0.636021\n",
            "\n",
            "--------------------------------------------------\n",
            "--------------------------------------------------\n",
            "Fold: 10\n",
            "[0]\tvalidation_0-auc:0.5\n",
            "Will train until validation_0-auc hasn't improved in 200 rounds.\n",
            "[250]\tvalidation_0-auc:0.630809\n",
            "[500]\tvalidation_0-auc:0.650093\n",
            "[750]\tvalidation_0-auc:0.660484\n",
            "[1000]\tvalidation_0-auc:0.662775\n",
            "Stopping. Best iteration:\n",
            "[924]\tvalidation_0-auc:0.663219\n",
            "\n",
            "--------------------------------------------------\n",
            "OOF score : 0.6333543103038647\n"
          ],
          "name": "stdout"
        }
      ]
    },
    {
      "cell_type": "code",
      "metadata": {
        "id": "r16LoEDERocu"
      },
      "source": [
        "xgbm_preds = np.mean(xgb_preds,axis=0)"
      ],
      "execution_count": 60,
      "outputs": []
    },
    {
      "cell_type": "code",
      "metadata": {
        "id": "9FQP18Q-k0OX"
      },
      "source": [
        "lightgbm_preds = np.mean(lgb_preds,axis=0)"
      ],
      "execution_count": 61,
      "outputs": []
    },
    {
      "cell_type": "code",
      "metadata": {
        "id": "nPPerHDVmZn8"
      },
      "source": [
        "test['target'] = catboost_preds\n",
        "submission = test[['ID', 'target']]\n",
        "submission.to_csv('Women-Solution_cat2.csv',index = False)"
      ],
      "execution_count": 19,
      "outputs": []
    },
    {
      "cell_type": "code",
      "metadata": {
        "id": "W1mhY_xqlCyg"
      },
      "source": [
        "test['target'] = lightgbm_preds\n",
        "submission = test[['ID', 'target']]\n",
        "submission.to_csv('Women-Solution_lgbm.csv',index = False)"
      ],
      "execution_count": null,
      "outputs": []
    },
    {
      "cell_type": "code",
      "metadata": {
        "id": "2x0XBgXZY_6f"
      },
      "source": [
        "test['target'] = lightgbm_preds*0.4  + catboost_preds*0.6\n",
        "submission = test[['ID', 'target']]\n",
        "submission.to_csv('Women-Solution_lgb_cat_.csv',index = False)"
      ],
      "execution_count": 74,
      "outputs": []
    },
    {
      "cell_type": "markdown",
      "metadata": {
        "id": "Qr1LMYwyaqCV"
      },
      "source": [
        ""
      ]
    },
    {
      "cell_type": "code",
      "metadata": {
        "colab": {
          "base_uri": "https://localhost:8080/",
          "height": 17
        },
        "id": "CJGQ8n8UY_zM",
        "outputId": "e24a4aa2-a7a0-4da9-8a7c-e1d65cf13cf1"
      },
      "source": [
        "from google.colab import files\n",
        "files.download('Women-Solution_lgb_cat_.csv')"
      ],
      "execution_count": 75,
      "outputs": [
        {
          "output_type": "display_data",
          "data": {
            "application/javascript": [
              "\n",
              "    async function download(id, filename, size) {\n",
              "      if (!google.colab.kernel.accessAllowed) {\n",
              "        return;\n",
              "      }\n",
              "      const div = document.createElement('div');\n",
              "      const label = document.createElement('label');\n",
              "      label.textContent = `Downloading \"${filename}\": `;\n",
              "      div.appendChild(label);\n",
              "      const progress = document.createElement('progress');\n",
              "      progress.max = size;\n",
              "      div.appendChild(progress);\n",
              "      document.body.appendChild(div);\n",
              "\n",
              "      const buffers = [];\n",
              "      let downloaded = 0;\n",
              "\n",
              "      const channel = await google.colab.kernel.comms.open(id);\n",
              "      // Send a message to notify the kernel that we're ready.\n",
              "      channel.send({})\n",
              "\n",
              "      for await (const message of channel.messages) {\n",
              "        // Send a message to notify the kernel that we're ready.\n",
              "        channel.send({})\n",
              "        if (message.buffers) {\n",
              "          for (const buffer of message.buffers) {\n",
              "            buffers.push(buffer);\n",
              "            downloaded += buffer.byteLength;\n",
              "            progress.value = downloaded;\n",
              "          }\n",
              "        }\n",
              "      }\n",
              "      const blob = new Blob(buffers, {type: 'application/binary'});\n",
              "      const a = document.createElement('a');\n",
              "      a.href = window.URL.createObjectURL(blob);\n",
              "      a.download = filename;\n",
              "      div.appendChild(a);\n",
              "      a.click();\n",
              "      div.remove();\n",
              "    }\n",
              "  "
            ],
            "text/plain": [
              "<IPython.core.display.Javascript object>"
            ]
          },
          "metadata": {
            "tags": []
          }
        },
        {
          "output_type": "display_data",
          "data": {
            "application/javascript": [
              "download(\"download_64829d13-e12d-416c-8445-7aaa4654ec5f\", \"Women-Solution_lgb_cat_.csv\", 106094)"
            ],
            "text/plain": [
              "<IPython.core.display.Javascript object>"
            ]
          },
          "metadata": {
            "tags": []
          }
        }
      ]
    },
    {
      "cell_type": "code",
      "metadata": {
        "id": "gyGYcgHfdpVW"
      },
      "source": [
        ""
      ],
      "execution_count": null,
      "outputs": []
    }
  ]
}
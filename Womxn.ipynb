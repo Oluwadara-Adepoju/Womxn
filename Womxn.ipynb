{
  "nbformat": 4,
  "nbformat_minor": 0,
  "metadata": {
    "colab": {
      "name": "Womxn.ipynb",
      "provenance": [],
      "authorship_tag": "ABX9TyPwASyzxreL0ag6sUZl7SXh",
      "include_colab_link": true
    },
    "kernelspec": {
      "name": "python3",
      "display_name": "Python 3"
    },
    "language_info": {
      "name": "python"
    }
  },
  "cells": [
    {
      "cell_type": "markdown",
      "metadata": {
        "id": "view-in-github",
        "colab_type": "text"
      },
      "source": [
        "<a href=\"https://colab.research.google.com/github/Oluwadara-Adepoju/Womxn/blob/main/Womxn.ipynb\" target=\"_parent\"><img src=\"https://colab.research.google.com/assets/colab-badge.svg\" alt=\"Open In Colab\"/></a>"
      ]
    },
    {
      "cell_type": "code",
      "metadata": {
        "colab": {
          "base_uri": "https://localhost:8080/"
        },
        "id": "wu5sK2XBEmF1",
        "outputId": "8adc31de-8b1c-471e-8b41-0e95cdaf076e"
      },
      "source": [
        "from google.colab import drive\n",
        "drive.mount('/content/drive')"
      ],
      "execution_count": 1,
      "outputs": [
        {
          "output_type": "stream",
          "text": [
            "Mounted at /content/drive\n"
          ],
          "name": "stdout"
        }
      ]
    },
    {
      "cell_type": "code",
      "metadata": {
        "id": "phAE2_jFFzIU"
      },
      "source": [
        "from sklearn.model_selection import train_test_split\n",
        "from sklearn.linear_model import LogisticRegression\n",
        "from sklearn.ensemble import RandomForestClassifier\n",
        "from sklearn.metrics import accuracy_score,  mean_squared_error, f1_score, roc_auc_score\n",
        "\n",
        "from sklearn.preprocessing import LabelEncoder\n",
        "\n",
        "label = LabelEncoder()"
      ],
      "execution_count": 2,
      "outputs": []
    },
    {
      "cell_type": "code",
      "metadata": {
        "colab": {
          "base_uri": "https://localhost:8080/"
        },
        "id": "8hqFs8xPaGii",
        "outputId": "1c6c4578-f447-4269-c704-cfe10d71a96e"
      },
      "source": [
        "!pip install catboost==0.22 --quiet"
      ],
      "execution_count": 3,
      "outputs": [
        {
          "output_type": "stream",
          "text": [
            "\u001b[K     |████████████████████████████████| 64.4MB 102kB/s \n",
            "\u001b[?25h"
          ],
          "name": "stdout"
        }
      ]
    },
    {
      "cell_type": "code",
      "metadata": {
        "id": "VYhZLuzhFzLC"
      },
      "source": [
        "import os, sys, gc, warnings, random\n",
        "import numpy as np \n",
        "import pandas as pd \n",
        "from sklearn.model_selection import StratifiedKFold\n",
        "from sklearn import preprocessing\n",
        "import lightgbm as lgb  \n",
        "from catboost import CatBoostClassifier ,Pool\n",
        "\n",
        "from sklearn.metrics import auc, classification_report, roc_auc_score\n",
        "from lightgbm import LGBMClassifier\n",
        "from sklearn.ensemble import RandomForestClassifier\n",
        "\n",
        "import matplotlib.pyplot as plt\n",
        "import seaborn as sns\n",
        "%matplotlib inline\n",
        "\n",
        "import warnings\n",
        "warnings.filterwarnings('ignore')"
      ],
      "execution_count": 4,
      "outputs": []
    },
    {
      "cell_type": "code",
      "metadata": {
        "id": "DBYLK1vZVVGd"
      },
      "source": [
        "class CFG :\n",
        "  SEED = 42\n",
        "  n_splits = 10\n",
        "  catboost_params = {'learning_rate':0.03,'iterations':10000,'eval_metric':'AUC',\n",
        "                      'use_best_model' :True,'verbose':100,'random_seed': 0,\n",
        "                      'devices':'0:1',}#'task_type':\"GPU\",}\n",
        "\n",
        "  lgb_params = {'boosting_type': 'gbdt','objective': 'binary','metric': 'auc',\n",
        "                'n_estimators': 5000,'sub_sample' : 0.5,'colsample_bytree' : 0.9,\n",
        "                'seed': SEED,'silent':False,'early_stopping_rounds': 100,'num_leaves':120}\n",
        "                \n",
        "  xgb_params = {\n",
        "              'learning_rate':0.1,  'max_depth':7,\n",
        "              'n_estimators':100, 'n_jobs': -1,\n",
        "              'objective':'binary:logistic', 'random_state':SEED, 'verbosity':100,'eval_metric':'auc'}\n",
        "\n",
        "               \n",
        "  remove_features = ['ID', 'gender', 'target']\n",
        "  categ_features = ['race','dwelling','dwelling_type','province_code','metro_code','nationality','RTH','marital_st','Lang_inside','Lang_outside','Education','lw_work','lw_business','help_on_household','job_or_business','nature_of_work']\n",
        "  TARGET_COL = 'target'"
      ],
      "execution_count": 57,
      "outputs": []
    },
    {
      "cell_type": "code",
      "metadata": {
        "id": "-7TtUXecVVKE"
      },
      "source": [
        "def seed_everything(seed):\n",
        "    random.seed(seed)\n",
        "    np.random.seed(seed)"
      ],
      "execution_count": 54,
      "outputs": []
    },
    {
      "cell_type": "code",
      "metadata": {
        "id": "7uSinArpFzNz"
      },
      "source": [
        "train= pd.read_csv ( \"/content/drive/My Drive/Colab Notebooks/Women/Train (2).csv\")\n",
        "test = pd.read_csv(\"/content/drive/My Drive/Colab Notebooks/Women/Test (1).csv\")\n",
        "vd = pd.read_csv ( \"/content/drive/My Drive/Colab Notebooks/Women/VariableDefinitions.csv\")\n",
        "ss=pd.read_csv ( \"/content/drive/My Drive/Colab Notebooks/Women/SampleSubmission (1).csv\")"
      ],
      "execution_count": 7,
      "outputs": []
    },
    {
      "cell_type": "code",
      "metadata": {
        "id": "jzfcP-oAZAGR"
      },
      "source": [
        "seed_everything(CFG.SEED)"
      ],
      "execution_count": 8,
      "outputs": []
    },
    {
      "cell_type": "code",
      "metadata": {
        "id": "q8cwPYUCjGhX"
      },
      "source": [
        "train['gender'] = label.fit_transform(train['gender'])\n",
        "train['race'] = label.fit_transform(train['race'])\n",
        "train['dwelling'] = label.fit_transform(train['dwelling'])\n",
        "train['dwelling_type'] = label.fit_transform(train['dwelling_type'])\n",
        "train['province_code'] = label.fit_transform(train['province_code'])\n",
        "train['metro_code'] = label.fit_transform(train['metro_code'])\n",
        "train['nationality'] = label.fit_transform(train['nationality'])\n",
        "train['RTH'] = label.fit_transform(train['RTH'])\n",
        "train['marital_st'] = label.fit_transform(train['marital_st'])\n",
        "train['Lang_inside'] = label.fit_transform(train['Lang_inside'])\n",
        "train['Lang_outside'] = label.fit_transform(train['Lang_outside'])\n",
        "train['Education'] = label.fit_transform(train['Education'])\n",
        "train['lw_work'] = label.fit_transform(train['lw_work'])\n",
        "train['lw_business'] = label.fit_transform(train['lw_business'])\n",
        "train['help_on_household'] = label.fit_transform(train['help_on_household'])\n",
        "train['job_or_business'] = label.fit_transform(train['job_or_business'])\n",
        "train['nature_of_work'] = label.fit_transform(train['nature_of_work'])\n"
      ],
      "execution_count": 9,
      "outputs": []
    },
    {
      "cell_type": "code",
      "metadata": {
        "id": "Fh9zoBA0ju3G"
      },
      "source": [
        "test['gender'] = label.fit_transform(test['gender'])\n",
        "test['race'] = label.fit_transform(test['race'])\n",
        "test['dwelling'] = label.fit_transform(test['dwelling'])\n",
        "test['dwelling_type'] = label.fit_transform(test['dwelling_type'])\n",
        "test['province_code'] = label.fit_transform(test['province_code'])\n",
        "test['metro_code'] = label.fit_transform(test['metro_code'])\n",
        "test['nationality'] = label.fit_transform(test['nationality'])\n",
        "test['RTH'] = label.fit_transform(test['RTH'])\n",
        "test['marital_st'] = label.fit_transform(test['marital_st'])\n",
        "test['Lang_inside'] = label.fit_transform(test['Lang_inside'])\n",
        "test['Lang_outside'] = label.fit_transform(test['Lang_outside'])\n",
        "test['Education'] = label.fit_transform(test['Education'])\n",
        "test['lw_work'] = label.fit_transform(test['lw_work'])\n",
        "test['lw_business'] = label.fit_transform(test['lw_business'])\n",
        "test['help_on_household'] = label.fit_transform(test['help_on_household'])\n",
        "test['job_or_business'] = label.fit_transform(test['job_or_business'])\n",
        "test['nature_of_work'] = label.fit_transform(test['nature_of_work'])"
      ],
      "execution_count": 10,
      "outputs": []
    },
    {
      "cell_type": "code",
      "metadata": {
        "colab": {
          "base_uri": "https://localhost:8080/"
        },
        "id": "FNevu-83ZAC7",
        "outputId": "a89aa21a-72b0-4b3a-cbe8-1d1f2ff7ea25"
      },
      "source": [
        "features_columns = [col for col in train.columns if col not in CFG.remove_features]\n",
        "len(features_columns)"
      ],
      "execution_count": 11,
      "outputs": [
        {
          "output_type": "execute_result",
          "data": {
            "text/plain": [
              "18"
            ]
          },
          "metadata": {
            "tags": []
          },
          "execution_count": 11
        }
      ]
    },
    {
      "cell_type": "code",
      "metadata": {
        "id": "CFtlkebBikh6"
      },
      "source": [
        ""
      ],
      "execution_count": 11,
      "outputs": []
    },
    {
      "cell_type": "code",
      "metadata": {
        "colab": {
          "base_uri": "https://localhost:8080/"
        },
        "id": "3Jm5a8aHZAAv",
        "outputId": "99ccd9e5-037c-491a-e728-475174013255"
      },
      "source": [
        "skf = StratifiedKFold(n_splits=CFG.n_splits,shuffle=True, random_state=CFG.SEED)\n",
        "\n",
        "X , y   = train[features_columns] , train[CFG.TARGET_COL]\n",
        "\n",
        "oof_cat = np.zeros((train.shape[0],))\n",
        "test['target'] = 0\n",
        "cat_preds= []\n",
        "\n",
        "for fold_, (trn_idx, val_idx) in enumerate(skf.split(X, y)):\n",
        "    print(50*'-')\n",
        "    print('Fold:',fold_+1)\n",
        "    X_train, y_train = X.iloc[trn_idx,:], y[trn_idx] \n",
        "    X_test, y_test = X.iloc[val_idx,:], y[val_idx] \n",
        "       \n",
        "    estimator = CatBoostClassifier(**CFG.catboost_params)\n",
        "    estimator.fit(Pool(X_train,y_train,cat_features = CFG.categ_features),\n",
        "                  eval_set = Pool(X_test,y_test,cat_features = CFG.categ_features),\n",
        "                  early_stopping_rounds=200)\n",
        "    \n",
        "    y_pred_val = estimator.predict_proba(X_test)[:,1]\n",
        "    oof_cat[val_idx] = y_pred_val\n",
        "    y_pred_test = estimator.predict_proba(test[features_columns])[:,1]\n",
        "    cat_preds.append(y_pred_test)\n",
        "    print(50*'-')\n",
        "    print()\n",
        "print('OOF score :',roc_auc_score(y, oof_cat))"
      ],
      "execution_count": 55,
      "outputs": [
        {
          "output_type": "stream",
          "text": [
            "--------------------------------------------------\n",
            "Fold: 1\n",
            "0:\ttest: 0.5747899\tbest: 0.5747899 (0)\ttotal: 31.7ms\tremaining: 5m 16s\n",
            "100:\ttest: 0.6462535\tbest: 0.6466620 (97)\ttotal: 1.76s\tremaining: 2m 53s\n",
            "200:\ttest: 0.6455182\tbest: 0.6512838 (142)\ttotal: 4.64s\tremaining: 3m 46s\n",
            "300:\ttest: 0.6438375\tbest: 0.6512838 (142)\ttotal: 7.71s\tremaining: 4m 8s\n",
            "Stopped by overfitting detector  (200 iterations wait)\n",
            "\n",
            "bestTest = 0.6512838469\n",
            "bestIteration = 142\n",
            "\n",
            "Shrink model to first 143 iterations.\n",
            "--------------------------------------------------\n",
            "\n",
            "--------------------------------------------------\n",
            "Fold: 2\n",
            "0:\ttest: 0.5908077\tbest: 0.5908077 (0)\ttotal: 28.4ms\tremaining: 4m 44s\n",
            "100:\ttest: 0.6945256\tbest: 0.6980319 (95)\ttotal: 1.74s\tremaining: 2m 50s\n",
            "200:\ttest: 0.7026993\tbest: 0.7029292 (199)\ttotal: 4.66s\tremaining: 3m 47s\n",
            "300:\ttest: 0.7101947\tbest: 0.7145633 (290)\ttotal: 7.82s\tremaining: 4m 11s\n",
            "400:\ttest: 0.7154255\tbest: 0.7158393 (395)\ttotal: 11.1s\tremaining: 4m 26s\n",
            "500:\ttest: 0.7099533\tbest: 0.7159083 (405)\ttotal: 14.5s\tremaining: 4m 34s\n",
            "600:\ttest: 0.7020900\tbest: 0.7159083 (405)\ttotal: 17.8s\tremaining: 4m 37s\n",
            "Stopped by overfitting detector  (200 iterations wait)\n",
            "\n",
            "bestTest = 0.7159083071\n",
            "bestIteration = 405\n",
            "\n",
            "Shrink model to first 406 iterations.\n",
            "--------------------------------------------------\n",
            "\n",
            "--------------------------------------------------\n",
            "Fold: 3\n",
            "0:\ttest: 0.5972340\tbest: 0.5972340 (0)\ttotal: 27.8ms\tremaining: 4m 38s\n",
            "100:\ttest: 0.6545651\tbest: 0.6554388 (97)\ttotal: 1.95s\tremaining: 3m 10s\n",
            "200:\ttest: 0.6555768\tbest: 0.6614513 (140)\ttotal: 4.91s\tremaining: 3m 59s\n",
            "300:\ttest: 0.6618306\tbest: 0.6629113 (295)\ttotal: 7.85s\tremaining: 4m 13s\n",
            "400:\ttest: 0.6633941\tbest: 0.6653944 (376)\ttotal: 11.1s\tremaining: 4m 25s\n",
            "500:\ttest: 0.6597613\tbest: 0.6653944 (376)\ttotal: 14.4s\tremaining: 4m 33s\n",
            "Stopped by overfitting detector  (200 iterations wait)\n",
            "\n",
            "bestTest = 0.6653944313\n",
            "bestIteration = 376\n",
            "\n",
            "Shrink model to first 377 iterations.\n",
            "--------------------------------------------------\n",
            "\n",
            "--------------------------------------------------\n",
            "Fold: 4\n",
            "0:\ttest: 0.6563240\tbest: 0.6563240 (0)\ttotal: 33.1ms\tremaining: 5m 31s\n",
            "100:\ttest: 0.7028142\tbest: 0.7159543 (52)\ttotal: 2s\tremaining: 3m 16s\n",
            "200:\ttest: 0.7033086\tbest: 0.7159543 (52)\ttotal: 4.94s\tremaining: 4m\n",
            "Stopped by overfitting detector  (200 iterations wait)\n",
            "\n",
            "bestTest = 0.7159542915\n",
            "bestIteration = 52\n",
            "\n",
            "Shrink model to first 53 iterations.\n",
            "--------------------------------------------------\n",
            "\n",
            "--------------------------------------------------\n",
            "Fold: 5\n",
            "0:\ttest: 0.5312924\tbest: 0.5312924 (0)\ttotal: 28.1ms\tremaining: 4m 41s\n",
            "100:\ttest: 0.5923022\tbest: 0.5938197 (98)\ttotal: 1.85s\tremaining: 3m 1s\n",
            "200:\ttest: 0.6027522\tbest: 0.6029591 (190)\ttotal: 4.79s\tremaining: 3m 53s\n",
            "300:\ttest: 0.6064424\tbest: 0.6085117 (262)\ttotal: 7.85s\tremaining: 4m 13s\n",
            "400:\ttest: 0.6063045\tbest: 0.6085117 (262)\ttotal: 11.2s\tremaining: 4m 28s\n",
            "500:\ttest: 0.6063964\tbest: 0.6089946 (458)\ttotal: 14.5s\tremaining: 4m 35s\n",
            "600:\ttest: 0.5984181\tbest: 0.6089946 (458)\ttotal: 17.9s\tremaining: 4m 39s\n",
            "Stopped by overfitting detector  (200 iterations wait)\n",
            "\n",
            "bestTest = 0.6089945508\n",
            "bestIteration = 458\n",
            "\n",
            "Shrink model to first 459 iterations.\n",
            "--------------------------------------------------\n",
            "\n",
            "--------------------------------------------------\n",
            "Fold: 6\n",
            "0:\ttest: 0.5728968\tbest: 0.5728968 (0)\ttotal: 34.9ms\tremaining: 5m 49s\n",
            "100:\ttest: 0.6377003\tbest: 0.6402295 (84)\ttotal: 2.06s\tremaining: 3m 21s\n",
            "200:\ttest: 0.6492539\tbest: 0.6501046 (187)\ttotal: 4.99s\tremaining: 4m 3s\n",
            "300:\ttest: 0.6398041\tbest: 0.6501046 (187)\ttotal: 8.04s\tremaining: 4m 19s\n",
            "Stopped by overfitting detector  (200 iterations wait)\n",
            "\n",
            "bestTest = 0.6501046145\n",
            "bestIteration = 187\n",
            "\n",
            "Shrink model to first 188 iterations.\n",
            "--------------------------------------------------\n",
            "\n",
            "--------------------------------------------------\n",
            "Fold: 7\n",
            "0:\ttest: 0.4431627\tbest: 0.4431627 (0)\ttotal: 32.1ms\tremaining: 5m 21s\n",
            "100:\ttest: 0.6312646\tbest: 0.6313815 (99)\ttotal: 2.03s\tremaining: 3m 19s\n",
            "200:\ttest: 0.6382539\tbest: 0.6384642 (193)\ttotal: 4.96s\tremaining: 4m 2s\n",
            "300:\ttest: 0.6441678\tbest: 0.6441678 (299)\ttotal: 8.01s\tremaining: 4m 18s\n",
            "400:\ttest: 0.6526999\tbest: 0.6527934 (399)\ttotal: 11.3s\tremaining: 4m 30s\n",
            "500:\ttest: 0.6469729\tbest: 0.6539855 (460)\ttotal: 14.6s\tremaining: 4m 37s\n",
            "600:\ttest: 0.6479780\tbest: 0.6539855 (460)\ttotal: 18s\tremaining: 4m 41s\n",
            "Stopped by overfitting detector  (200 iterations wait)\n",
            "\n",
            "bestTest = 0.6539855072\n",
            "bestIteration = 460\n",
            "\n",
            "Shrink model to first 461 iterations.\n",
            "--------------------------------------------------\n",
            "\n",
            "--------------------------------------------------\n",
            "Fold: 8\n",
            "0:\ttest: 0.5399252\tbest: 0.5399252 (0)\ttotal: 38.7ms\tremaining: 6m 27s\n",
            "100:\ttest: 0.6541024\tbest: 0.6589060 (89)\ttotal: 1.8s\tremaining: 2m 56s\n",
            "200:\ttest: 0.6694250\tbest: 0.6694250 (200)\ttotal: 4.73s\tremaining: 3m 50s\n",
            "300:\ttest: 0.6701964\tbest: 0.6713184 (225)\ttotal: 7.86s\tremaining: 4m 13s\n",
            "400:\ttest: 0.6636746\tbest: 0.6713417 (332)\ttotal: 11.2s\tremaining: 4m 28s\n",
            "500:\ttest: 0.6647733\tbest: 0.6713417 (332)\ttotal: 14.5s\tremaining: 4m 34s\n",
            "Stopped by overfitting detector  (200 iterations wait)\n",
            "\n",
            "bestTest = 0.6713417485\n",
            "bestIteration = 332\n",
            "\n",
            "Shrink model to first 333 iterations.\n",
            "--------------------------------------------------\n",
            "\n",
            "--------------------------------------------------\n",
            "Fold: 9\n",
            "0:\ttest: 0.5084151\tbest: 0.5084151 (0)\ttotal: 22.1ms\tremaining: 3m 40s\n",
            "100:\ttest: 0.6130669\tbest: 0.6199158 (85)\ttotal: 1.85s\tremaining: 3m 1s\n",
            "200:\ttest: 0.6237494\tbest: 0.6250117 (179)\ttotal: 4.83s\tremaining: 3m 55s\n",
            "300:\ttest: 0.6309023\tbest: 0.6327723 (286)\ttotal: 7.74s\tremaining: 4m 9s\n",
            "400:\ttest: 0.6318373\tbest: 0.6327723 (286)\ttotal: 11.1s\tremaining: 4m 24s\n",
            "500:\ttest: 0.6380552\tbest: 0.6384525 (499)\ttotal: 14.4s\tremaining: 4m 32s\n",
            "600:\ttest: 0.6411641\tbest: 0.6420290 (570)\ttotal: 17.7s\tremaining: 4m 36s\n",
            "700:\ttest: 0.6417952\tbest: 0.6445068 (632)\ttotal: 21s\tremaining: 4m 39s\n",
            "800:\ttest: 0.6443899\tbest: 0.6445535 (794)\ttotal: 24.4s\tremaining: 4m 40s\n",
            "900:\ttest: 0.6398551\tbest: 0.6453717 (808)\ttotal: 27.8s\tremaining: 4m 40s\n",
            "1000:\ttest: 0.6422160\tbest: 0.6453717 (808)\ttotal: 31.1s\tremaining: 4m 39s\n",
            "Stopped by overfitting detector  (200 iterations wait)\n",
            "\n",
            "bestTest = 0.645371669\n",
            "bestIteration = 808\n",
            "\n",
            "Shrink model to first 809 iterations.\n",
            "--------------------------------------------------\n",
            "\n",
            "--------------------------------------------------\n",
            "Fold: 10\n",
            "0:\ttest: 0.5321646\tbest: 0.5321646 (0)\ttotal: 32ms\tremaining: 5m 20s\n",
            "100:\ttest: 0.6534596\tbest: 0.6580178 (94)\ttotal: 1.91s\tremaining: 3m 7s\n",
            "200:\ttest: 0.6455236\tbest: 0.6580178 (94)\ttotal: 4.9s\tremaining: 3m 59s\n",
            "Stopped by overfitting detector  (200 iterations wait)\n",
            "\n",
            "bestTest = 0.6580177653\n",
            "bestIteration = 94\n",
            "\n",
            "Shrink model to first 95 iterations.\n",
            "--------------------------------------------------\n",
            "\n",
            "OOF score : 0.6390284069903147\n"
          ],
          "name": "stdout"
        }
      ]
    },
    {
      "cell_type": "code",
      "metadata": {
        "id": "coyEjzMpY_8-"
      },
      "source": [
        "catboost_preds = np.mean(cat_preds,axis=0)"
      ],
      "execution_count": 56,
      "outputs": []
    },
    {
      "cell_type": "code",
      "metadata": {
        "colab": {
          "base_uri": "https://localhost:8080/"
        },
        "id": "HFFNcW9chRh4",
        "outputId": "c48891a3-5e62-490d-8758-3194a6a0e046"
      },
      "source": [
        "skf = StratifiedKFold(n_splits=CFG.n_splits,shuffle=True, random_state=CFG.SEED)\n",
        "\n",
        "X , y   = train[features_columns] , train[CFG.TARGET_COL]\n",
        "\n",
        "oof_lgb = np.zeros((train.shape[0],))\n",
        "test['target'] = 0\n",
        "lgb_preds = []\n",
        "\n",
        "for fold_, (trn_idx, val_idx) in enumerate(skf.split(X, y)):\n",
        "    print(50*'-')\n",
        "    print('Fold:',fold_+1)\n",
        "\n",
        "    tr_x, tr_y = X.iloc[trn_idx,:], y[trn_idx] \n",
        "    vl_x, vl_y = X.iloc[val_idx,:], y[val_idx] \n",
        "        \n",
        "    train_data = lgb.Dataset(tr_x, label=tr_y,categorical_feature=CFG.categ_features)\n",
        "    valid_data = lgb.Dataset(vl_x, label=vl_y,categorical_feature=CFG.categ_features)\n",
        "\n",
        "    estimator = lgb.train(CFG.lgb_params,train_data,valid_sets = [train_data,valid_data],verbose_eval = 100)\n",
        "    \n",
        "    y_pred_val = estimator.predict(vl_x,num_iteration=estimator.best_iteration)\n",
        "    oof_lgb[val_idx] = y_pred_val\n",
        "    \n",
        "    y_pred_test = estimator.predict(test[features_columns],num_iteration=estimator.best_iteration)\n",
        "    lgb_preds.append(y_pred_test)\n",
        "    print(50*'-')\n",
        "\n",
        "print('OOF score :',roc_auc_score(y, oof_lgb))"
      ],
      "execution_count": 58,
      "outputs": [
        {
          "output_type": "stream",
          "text": [
            "--------------------------------------------------\n",
            "Fold: 1\n",
            "Training until validation scores don't improve for 100 rounds.\n",
            "[100]\ttraining's auc: 0.999995\tvalid_1's auc: 0.646639\n",
            "Early stopping, best iteration is:\n",
            "[27]\ttraining's auc: 0.989368\tvalid_1's auc: 0.65852\n",
            "--------------------------------------------------\n",
            "--------------------------------------------------\n",
            "Fold: 2\n",
            "Training until validation scores don't improve for 100 rounds.\n",
            "[100]\ttraining's auc: 0.999993\tvalid_1's auc: 0.737291\n",
            "Early stopping, best iteration is:\n",
            "[54]\ttraining's auc: 0.999513\tvalid_1's auc: 0.742786\n",
            "--------------------------------------------------\n",
            "--------------------------------------------------\n",
            "Fold: 3\n",
            "Training until validation scores don't improve for 100 rounds.\n",
            "[100]\ttraining's auc: 0.999996\tvalid_1's auc: 0.62456\n",
            "Early stopping, best iteration is:\n",
            "[28]\ttraining's auc: 0.990301\tvalid_1's auc: 0.651898\n",
            "--------------------------------------------------\n",
            "--------------------------------------------------\n",
            "Fold: 4\n",
            "Training until validation scores don't improve for 100 rounds.\n",
            "[100]\ttraining's auc: 0.999993\tvalid_1's auc: 0.658359\n",
            "Early stopping, best iteration is:\n",
            "[17]\ttraining's auc: 0.961778\tvalid_1's auc: 0.680983\n",
            "--------------------------------------------------\n",
            "--------------------------------------------------\n",
            "Fold: 5\n",
            "Training until validation scores don't improve for 100 rounds.\n",
            "[100]\ttraining's auc: 0.999996\tvalid_1's auc: 0.548203\n",
            "Early stopping, best iteration is:\n",
            "[1]\ttraining's auc: 0.791996\tvalid_1's auc: 0.620054\n",
            "--------------------------------------------------\n",
            "--------------------------------------------------\n",
            "Fold: 6\n",
            "Training until validation scores don't improve for 100 rounds.\n",
            "[100]\ttraining's auc: 0.99999\tvalid_1's auc: 0.642103\n",
            "Early stopping, best iteration is:\n",
            "[3]\ttraining's auc: 0.858424\tvalid_1's auc: 0.687226\n",
            "--------------------------------------------------\n",
            "--------------------------------------------------\n",
            "Fold: 7\n",
            "Training until validation scores don't improve for 100 rounds.\n",
            "[100]\ttraining's auc: 0.999996\tvalid_1's auc: 0.675514\n",
            "Early stopping, best iteration is:\n",
            "[27]\ttraining's auc: 0.9875\tvalid_1's auc: 0.688277\n",
            "--------------------------------------------------\n",
            "--------------------------------------------------\n",
            "Fold: 8\n",
            "Training until validation scores don't improve for 100 rounds.\n",
            "[100]\ttraining's auc: 0.999993\tvalid_1's auc: 0.636068\n",
            "Early stopping, best iteration is:\n",
            "[1]\ttraining's auc: 0.793038\tvalid_1's auc: 0.641877\n",
            "--------------------------------------------------\n",
            "--------------------------------------------------\n",
            "Fold: 9\n",
            "Training until validation scores don't improve for 100 rounds.\n",
            "[100]\ttraining's auc: 0.999995\tvalid_1's auc: 0.633474\n",
            "Early stopping, best iteration is:\n",
            "[25]\ttraining's auc: 0.979293\tvalid_1's auc: 0.654722\n",
            "--------------------------------------------------\n",
            "--------------------------------------------------\n",
            "Fold: 10\n",
            "Training until validation scores don't improve for 100 rounds.\n",
            "[100]\ttraining's auc: 0.999993\tvalid_1's auc: 0.617017\n",
            "Early stopping, best iteration is:\n",
            "[5]\ttraining's auc: 0.874956\tvalid_1's auc: 0.642765\n",
            "--------------------------------------------------\n",
            "OOF score : 0.6560859290885681\n"
          ],
          "name": "stdout"
        }
      ]
    },
    {
      "cell_type": "code",
      "metadata": {
        "colab": {
          "base_uri": "https://localhost:8080/"
        },
        "id": "modr7L1SIw0m",
        "outputId": "124dde4a-82d4-4da6-cb48-e90f55b3fa27"
      },
      "source": [
        "from xgboost import XGBClassifier\n",
        "skf = StratifiedKFold(n_splits=CFG.n_splits,shuffle=True, random_state=CFG.SEED)\n",
        "\n",
        "X , y   = train[features_columns] , train[CFG.TARGET_COL]\n",
        "\n",
        "oof_xgb = np.zeros((train.shape[0],))\n",
        "test['target'] = 0\n",
        "xgb_preds = []\n",
        "\n",
        "for fold_, (trn_idx, val_idx) in enumerate(skf.split(X, y)):\n",
        "    print(50*'-')\n",
        "    print('Fold:',fold_+1)\n",
        "\n",
        "    tr_x, tr_y = X.iloc[trn_idx,:], y[trn_idx] \n",
        "    vl_x, vl_y = X.iloc[val_idx,:], y[val_idx] \n",
        "\n",
        "    xgb=XGBClassifier(learning_rate=0.01,subsample=0.7,colsample_bytree=0.9,reg_alpha=10,\n",
        "               n_jobs=-1,n_estimators=5000,max_depth= 5,random_state=34)\n",
        "    estimator = xgb.fit(tr_x, tr_y, early_stopping_rounds = 200, eval_metric=\"auc\",\n",
        "                           eval_set=[(vl_x, vl_y)],verbose=250)\n",
        "    train_predict = estimator.predict_proba(tr_x, ntree_limit = estimator.get_booster().best_ntree_limit)[:,1]\n",
        "    \n",
        "  \n",
        "        \n",
        "  \n",
        "    y_pred_val = estimator.predict_proba(vl_x, ntree_limit = estimator.get_booster().best_ntree_limit)[:,1]\n",
        "    oof_xgb[val_idx] = y_pred_val\n",
        "    \n",
        "    y_pred_test = estimator.predict(test[features_columns], ntree_limit = estimator.get_booster().best_ntree_limit)\n",
        "    xgb_preds.append(y_pred_test)\n",
        "    print(50*'-')\n",
        "\n",
        "print('OOF score :',roc_auc_score(y, oof_xgb))"
      ],
      "execution_count": 59,
      "outputs": [
        {
          "output_type": "stream",
          "text": [
            "--------------------------------------------------\n",
            "Fold: 1\n",
            "[0]\tvalidation_0-auc:0.5\n",
            "Will train until validation_0-auc hasn't improved in 200 rounds.\n",
            "[250]\tvalidation_0-auc:0.590558\n",
            "[500]\tvalidation_0-auc:0.625163\n",
            "[750]\tvalidation_0-auc:0.641573\n",
            "[1000]\tvalidation_0-auc:0.648366\n",
            "[1250]\tvalidation_0-auc:0.652194\n",
            "[1500]\tvalidation_0-auc:0.654015\n",
            "[1750]\tvalidation_0-auc:0.654902\n",
            "[2000]\tvalidation_0-auc:0.658193\n",
            "[2250]\tvalidation_0-auc:0.659781\n",
            "[2500]\tvalidation_0-auc:0.659314\n",
            "Stopping. Best iteration:\n",
            "[2336]\tvalidation_0-auc:0.660294\n",
            "\n",
            "--------------------------------------------------\n",
            "--------------------------------------------------\n",
            "Fold: 2\n",
            "[0]\tvalidation_0-auc:0.5\n",
            "Will train until validation_0-auc hasn't improved in 200 rounds.\n",
            "[250]\tvalidation_0-auc:0.646391\n",
            "[500]\tvalidation_0-auc:0.666464\n",
            "[750]\tvalidation_0-auc:0.680822\n",
            "[1000]\tvalidation_0-auc:0.69356\n",
            "[1250]\tvalidation_0-auc:0.703883\n",
            "[1500]\tvalidation_0-auc:0.707493\n",
            "[1750]\tvalidation_0-auc:0.712597\n",
            "[2000]\tvalidation_0-auc:0.715839\n",
            "[2250]\tvalidation_0-auc:0.72076\n",
            "[2500]\tvalidation_0-auc:0.722346\n",
            "[2750]\tvalidation_0-auc:0.722668\n",
            "Stopping. Best iteration:\n",
            "[2608]\tvalidation_0-auc:0.723749\n",
            "\n",
            "--------------------------------------------------\n",
            "--------------------------------------------------\n",
            "Fold: 3\n",
            "[0]\tvalidation_0-auc:0.5\n",
            "Will train until validation_0-auc hasn't improved in 200 rounds.\n",
            "[250]\tvalidation_0-auc:0.636528\n",
            "[500]\tvalidation_0-auc:0.651231\n",
            "[750]\tvalidation_0-auc:0.659003\n",
            "[1000]\tvalidation_0-auc:0.662199\n",
            "[1250]\tvalidation_0-auc:0.666728\n",
            "[1500]\tvalidation_0-auc:0.669165\n",
            "[1750]\tvalidation_0-auc:0.669257\n",
            "Stopping. Best iteration:\n",
            "[1659]\tvalidation_0-auc:0.670867\n",
            "\n",
            "--------------------------------------------------\n",
            "--------------------------------------------------\n",
            "Fold: 4\n",
            "[0]\tvalidation_0-auc:0.5\n",
            "Will train until validation_0-auc hasn't improved in 200 rounds.\n",
            "[250]\tvalidation_0-auc:0.674695\n",
            "[500]\tvalidation_0-auc:0.682363\n",
            "Stopping. Best iteration:\n",
            "[364]\tvalidation_0-auc:0.684087\n",
            "\n",
            "--------------------------------------------------\n",
            "--------------------------------------------------\n",
            "Fold: 5\n",
            "[0]\tvalidation_0-auc:0.5\n",
            "Will train until validation_0-auc hasn't improved in 200 rounds.\n",
            "[250]\tvalidation_0-auc:0.585876\n",
            "Stopping. Best iteration:\n",
            "[173]\tvalidation_0-auc:0.605132\n",
            "\n",
            "--------------------------------------------------\n",
            "--------------------------------------------------\n",
            "Fold: 6\n",
            "[0]\tvalidation_0-auc:0.5\n",
            "Will train until validation_0-auc hasn't improved in 200 rounds.\n",
            "[250]\tvalidation_0-auc:0.638804\n",
            "Stopping. Best iteration:\n",
            "[258]\tvalidation_0-auc:0.641092\n",
            "\n",
            "--------------------------------------------------\n",
            "--------------------------------------------------\n",
            "Fold: 7\n",
            "[0]\tvalidation_0-auc:0.497195\n",
            "Will train until validation_0-auc hasn't improved in 200 rounds.\n",
            "[250]\tvalidation_0-auc:0.597207\n",
            "[500]\tvalidation_0-auc:0.615054\n",
            "[750]\tvalidation_0-auc:0.633322\n",
            "[1000]\tvalidation_0-auc:0.646716\n",
            "[1250]\tvalidation_0-auc:0.650175\n",
            "[1500]\tvalidation_0-auc:0.653167\n",
            "[1750]\tvalidation_0-auc:0.655692\n",
            "[2000]\tvalidation_0-auc:0.660063\n",
            "Stopping. Best iteration:\n",
            "[2004]\tvalidation_0-auc:0.660227\n",
            "\n",
            "--------------------------------------------------\n",
            "--------------------------------------------------\n",
            "Fold: 8\n",
            "[0]\tvalidation_0-auc:0.5\n",
            "Will train until validation_0-auc hasn't improved in 200 rounds.\n",
            "[250]\tvalidation_0-auc:0.609689\n",
            "[500]\tvalidation_0-auc:0.623843\n",
            "[750]\tvalidation_0-auc:0.634058\n",
            "[1000]\tvalidation_0-auc:0.63913\n",
            "[1250]\tvalidation_0-auc:0.639388\n",
            "[1500]\tvalidation_0-auc:0.63899\n",
            "Stopping. Best iteration:\n",
            "[1320]\tvalidation_0-auc:0.641281\n",
            "\n",
            "--------------------------------------------------\n",
            "--------------------------------------------------\n",
            "Fold: 9\n",
            "[0]\tvalidation_0-auc:0.5\n",
            "Will train until validation_0-auc hasn't improved in 200 rounds.\n",
            "[250]\tvalidation_0-auc:0.583427\n",
            "[500]\tvalidation_0-auc:0.612179\n",
            "[750]\tvalidation_0-auc:0.617952\n",
            "[1000]\tvalidation_0-auc:0.623235\n",
            "[1250]\tvalidation_0-auc:0.628331\n",
            "[1500]\tvalidation_0-auc:0.630972\n",
            "[1750]\tvalidation_0-auc:0.633801\n",
            "[2000]\tvalidation_0-auc:0.634502\n",
            "Stopping. Best iteration:\n",
            "[1944]\tvalidation_0-auc:0.636021\n",
            "\n",
            "--------------------------------------------------\n",
            "--------------------------------------------------\n",
            "Fold: 10\n",
            "[0]\tvalidation_0-auc:0.5\n",
            "Will train until validation_0-auc hasn't improved in 200 rounds.\n",
            "[250]\tvalidation_0-auc:0.630809\n",
            "[500]\tvalidation_0-auc:0.650093\n",
            "[750]\tvalidation_0-auc:0.660484\n",
            "[1000]\tvalidation_0-auc:0.662775\n",
            "Stopping. Best iteration:\n",
            "[924]\tvalidation_0-auc:0.663219\n",
            "\n",
            "--------------------------------------------------\n",
            "OOF score : 0.6333543103038647\n"
          ],
          "name": "stdout"
        }
      ]
    },
    {
      "cell_type": "code",
      "metadata": {
        "id": "r16LoEDERocu"
      },
      "source": [
        "xgbm_preds = np.mean(xgb_preds,axis=0)"
      ],
      "execution_count": 60,
      "outputs": []
    },
    {
      "cell_type": "code",
      "metadata": {
        "id": "9FQP18Q-k0OX"
      },
      "source": [
        "lightgbm_preds = np.mean(lgb_preds,axis=0)"
      ],
      "execution_count": 61,
      "outputs": []
    },
    {
      "cell_type": "code",
      "metadata": {
        "id": "nPPerHDVmZn8"
      },
      "source": [
        "test['target'] = catboost_preds\n",
        "submission = test[['ID', 'target']]\n",
        "submission.to_csv('Women-Solution_cat2.csv',index = False)"
      ],
      "execution_count": 19,
      "outputs": []
    },
    {
      "cell_type": "code",
      "metadata": {
        "id": "W1mhY_xqlCyg"
      },
      "source": [
        "test['target'] = lightgbm_preds\n",
        "submission = test[['ID', 'target']]\n",
        "submission.to_csv('Women-Solution_lgbm.csv',index = False)"
      ],
      "execution_count": null,
      "outputs": []
    },
    {
      "cell_type": "code",
      "metadata": {
        "id": "2x0XBgXZY_6f"
      },
      "source": [
        "test['target'] = xgbm_preds*0.2 +  lightgbm_preds*0.2 + catboost_preds*0.6\n",
        "submission = test[['ID', 'target']]\n",
        "submission.to_csv('Women-Solution_xgb_lgbm_cat_3.csv',index = False)"
      ],
      "execution_count": 64,
      "outputs": []
    },
    {
      "cell_type": "code",
      "metadata": {
        "colab": {
          "base_uri": "https://localhost:8080/",
          "height": 17
        },
        "id": "CJGQ8n8UY_zM",
        "outputId": "8bdfedc1-c87b-4266-b0bc-8d9d68d2425d"
      },
      "source": [
        "from google.colab import files\n",
        "files.download('Women-Solution_xgb_lgbm_cat_3.csv')"
      ],
      "execution_count": 65,
      "outputs": [
        {
          "output_type": "display_data",
          "data": {
            "application/javascript": [
              "\n",
              "    async function download(id, filename, size) {\n",
              "      if (!google.colab.kernel.accessAllowed) {\n",
              "        return;\n",
              "      }\n",
              "      const div = document.createElement('div');\n",
              "      const label = document.createElement('label');\n",
              "      label.textContent = `Downloading \"${filename}\": `;\n",
              "      div.appendChild(label);\n",
              "      const progress = document.createElement('progress');\n",
              "      progress.max = size;\n",
              "      div.appendChild(progress);\n",
              "      document.body.appendChild(div);\n",
              "\n",
              "      const buffers = [];\n",
              "      let downloaded = 0;\n",
              "\n",
              "      const channel = await google.colab.kernel.comms.open(id);\n",
              "      // Send a message to notify the kernel that we're ready.\n",
              "      channel.send({})\n",
              "\n",
              "      for await (const message of channel.messages) {\n",
              "        // Send a message to notify the kernel that we're ready.\n",
              "        channel.send({})\n",
              "        if (message.buffers) {\n",
              "          for (const buffer of message.buffers) {\n",
              "            buffers.push(buffer);\n",
              "            downloaded += buffer.byteLength;\n",
              "            progress.value = downloaded;\n",
              "          }\n",
              "        }\n",
              "      }\n",
              "      const blob = new Blob(buffers, {type: 'application/binary'});\n",
              "      const a = document.createElement('a');\n",
              "      a.href = window.URL.createObjectURL(blob);\n",
              "      a.download = filename;\n",
              "      div.appendChild(a);\n",
              "      a.click();\n",
              "      div.remove();\n",
              "    }\n",
              "  "
            ],
            "text/plain": [
              "<IPython.core.display.Javascript object>"
            ]
          },
          "metadata": {
            "tags": []
          }
        },
        {
          "output_type": "display_data",
          "data": {
            "application/javascript": [
              "download(\"download_d7de16e7-ec06-4b3b-88e7-3b96303aaf21\", \"Women-Solution_xgb_lgbm_cat_3.csv\", 106393)"
            ],
            "text/plain": [
              "<IPython.core.display.Javascript object>"
            ]
          },
          "metadata": {
            "tags": []
          }
        }
      ]
    },
    {
      "cell_type": "code",
      "metadata": {
        "id": "gyGYcgHfdpVW"
      },
      "source": [
        ""
      ],
      "execution_count": null,
      "outputs": []
    }
  ]
}
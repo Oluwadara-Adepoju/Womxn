{
  "nbformat": 4,
  "nbformat_minor": 0,
  "metadata": {
    "colab": {
      "name": "Womxn.ipynb",
      "provenance": [],
      "authorship_tag": "ABX9TyOX4pFINEyiLuPEC2NmgKVM",
      "include_colab_link": true
    },
    "kernelspec": {
      "name": "python3",
      "display_name": "Python 3"
    },
    "language_info": {
      "name": "python"
    }
  },
  "cells": [
    {
      "cell_type": "markdown",
      "metadata": {
        "id": "view-in-github",
        "colab_type": "text"
      },
      "source": [
        "<a href=\"https://colab.research.google.com/github/Oluwadara-Adepoju/Womxn/blob/main/Womxn.ipynb\" target=\"_parent\"><img src=\"https://colab.research.google.com/assets/colab-badge.svg\" alt=\"Open In Colab\"/></a>"
      ]
    },
    {
      "cell_type": "code",
      "metadata": {
        "colab": {
          "base_uri": "https://localhost:8080/"
        },
        "id": "wu5sK2XBEmF1",
        "outputId": "8adc31de-8b1c-471e-8b41-0e95cdaf076e"
      },
      "source": [
        "from google.colab import drive\n",
        "drive.mount('/content/drive')"
      ],
      "execution_count": 1,
      "outputs": [
        {
          "output_type": "stream",
          "text": [
            "Mounted at /content/drive\n"
          ],
          "name": "stdout"
        }
      ]
    },
    {
      "cell_type": "code",
      "metadata": {
        "id": "phAE2_jFFzIU"
      },
      "source": [
        "from sklearn.model_selection import train_test_split\n",
        "from sklearn.linear_model import LogisticRegression\n",
        "from sklearn.ensemble import RandomForestClassifier\n",
        "from sklearn.metrics import accuracy_score,  mean_squared_error, f1_score, roc_auc_score\n",
        "\n",
        "from sklearn.preprocessing import LabelEncoder\n",
        "\n",
        "label = LabelEncoder()"
      ],
      "execution_count": 2,
      "outputs": []
    },
    {
      "cell_type": "code",
      "metadata": {
        "colab": {
          "base_uri": "https://localhost:8080/"
        },
        "id": "8hqFs8xPaGii",
        "outputId": "1c6c4578-f447-4269-c704-cfe10d71a96e"
      },
      "source": [
        "!pip install catboost==0.22 --quiet"
      ],
      "execution_count": 3,
      "outputs": [
        {
          "output_type": "stream",
          "text": [
            "\u001b[K     |████████████████████████████████| 64.4MB 102kB/s \n",
            "\u001b[?25h"
          ],
          "name": "stdout"
        }
      ]
    },
    {
      "cell_type": "code",
      "metadata": {
        "id": "VYhZLuzhFzLC"
      },
      "source": [
        "import os, sys, gc, warnings, random\n",
        "import numpy as np \n",
        "import pandas as pd \n",
        "from sklearn.model_selection import StratifiedKFold\n",
        "from sklearn import preprocessing\n",
        "import lightgbm as lgb  \n",
        "from catboost import CatBoostClassifier ,Pool\n",
        "\n",
        "from sklearn.metrics import auc, classification_report, roc_auc_score\n",
        "from lightgbm import LGBMClassifier\n",
        "from sklearn.ensemble import RandomForestClassifier\n",
        "\n",
        "import matplotlib.pyplot as plt\n",
        "import seaborn as sns\n",
        "%matplotlib inline\n",
        "\n",
        "import warnings\n",
        "warnings.filterwarnings('ignore')"
      ],
      "execution_count": 4,
      "outputs": []
    },
    {
      "cell_type": "code",
      "metadata": {
        "id": "DBYLK1vZVVGd"
      },
      "source": [
        "class CFG :\n",
        "  SEED = 42\n",
        "  n_splits = 5\n",
        "  catboost_params = {'learning_rate':0.03,'iterations':10000,'eval_metric':'AUC',\n",
        "                      'use_best_model' :True,'verbose':100,'random_seed': 0,\n",
        "                      'devices':'0:1',}#'task_type':\"GPU\",}\n",
        "\n",
        "  lgb_params = {'boosting_type': 'gbdt','objective': 'binary','metric': 'auc',\n",
        "                'n_estimators': 1000,'sub_sample' : 0.3,'colsample_bytree' : 0.6,\n",
        "                'seed': SEED,'silent':False,'early_stopping_rounds': 100,}\n",
        "  xgb_params = {\n",
        "              'learning_rate':0.1,  'max_depth':7,\n",
        "              'n_estimators':100, 'n_jobs': -1,\n",
        "              'objective':'binary:logistic', 'random_state':SEED, 'verbosity':100,'eval_metric':'auc'}\n",
        "\n",
        "               \n",
        "  remove_features = ['ID', 'gender', 'target']\n",
        "  categ_features = ['race','dwelling','dwelling_type','province_code','metro_code','nationality','RTH','marital_st','Lang_inside','Lang_outside','Education','lw_work','lw_business','help_on_household','job_or_business','nature_of_work']\n",
        "  TARGET_COL = 'target'"
      ],
      "execution_count": 27,
      "outputs": []
    },
    {
      "cell_type": "code",
      "metadata": {
        "id": "-7TtUXecVVKE"
      },
      "source": [
        "def seed_everything(seed):\n",
        "    random.seed(seed)\n",
        "    np.random.seed(seed)"
      ],
      "execution_count": 6,
      "outputs": []
    },
    {
      "cell_type": "code",
      "metadata": {
        "id": "7uSinArpFzNz"
      },
      "source": [
        "train= pd.read_csv ( \"/content/drive/My Drive/Colab Notebooks/Women/Train (2).csv\")\n",
        "test = pd.read_csv(\"/content/drive/My Drive/Colab Notebooks/Women/Test (1).csv\")\n",
        "vd = pd.read_csv ( \"/content/drive/My Drive/Colab Notebooks/Women/VariableDefinitions.csv\")\n",
        "ss=pd.read_csv ( \"/content/drive/My Drive/Colab Notebooks/Women/SampleSubmission (1).csv\")"
      ],
      "execution_count": 7,
      "outputs": []
    },
    {
      "cell_type": "code",
      "metadata": {
        "id": "jzfcP-oAZAGR"
      },
      "source": [
        "seed_everything(CFG.SEED)"
      ],
      "execution_count": 8,
      "outputs": []
    },
    {
      "cell_type": "code",
      "metadata": {
        "id": "q8cwPYUCjGhX"
      },
      "source": [
        "train['gender'] = label.fit_transform(train['gender'])\n",
        "train['race'] = label.fit_transform(train['race'])\n",
        "train['dwelling'] = label.fit_transform(train['dwelling'])\n",
        "train['dwelling_type'] = label.fit_transform(train['dwelling_type'])\n",
        "train['province_code'] = label.fit_transform(train['province_code'])\n",
        "train['metro_code'] = label.fit_transform(train['metro_code'])\n",
        "train['nationality'] = label.fit_transform(train['nationality'])\n",
        "train['RTH'] = label.fit_transform(train['RTH'])\n",
        "train['marital_st'] = label.fit_transform(train['marital_st'])\n",
        "train['Lang_inside'] = label.fit_transform(train['Lang_inside'])\n",
        "train['Lang_outside'] = label.fit_transform(train['Lang_outside'])\n",
        "train['Education'] = label.fit_transform(train['Education'])\n",
        "train['lw_work'] = label.fit_transform(train['lw_work'])\n",
        "train['lw_business'] = label.fit_transform(train['lw_business'])\n",
        "train['help_on_household'] = label.fit_transform(train['help_on_household'])\n",
        "train['job_or_business'] = label.fit_transform(train['job_or_business'])\n",
        "train['nature_of_work'] = label.fit_transform(train['nature_of_work'])\n"
      ],
      "execution_count": 9,
      "outputs": []
    },
    {
      "cell_type": "code",
      "metadata": {
        "id": "Fh9zoBA0ju3G"
      },
      "source": [
        "test['gender'] = label.fit_transform(test['gender'])\n",
        "test['race'] = label.fit_transform(test['race'])\n",
        "test['dwelling'] = label.fit_transform(test['dwelling'])\n",
        "test['dwelling_type'] = label.fit_transform(test['dwelling_type'])\n",
        "test['province_code'] = label.fit_transform(test['province_code'])\n",
        "test['metro_code'] = label.fit_transform(test['metro_code'])\n",
        "test['nationality'] = label.fit_transform(test['nationality'])\n",
        "test['RTH'] = label.fit_transform(test['RTH'])\n",
        "test['marital_st'] = label.fit_transform(test['marital_st'])\n",
        "test['Lang_inside'] = label.fit_transform(test['Lang_inside'])\n",
        "test['Lang_outside'] = label.fit_transform(test['Lang_outside'])\n",
        "test['Education'] = label.fit_transform(test['Education'])\n",
        "test['lw_work'] = label.fit_transform(test['lw_work'])\n",
        "test['lw_business'] = label.fit_transform(test['lw_business'])\n",
        "test['help_on_household'] = label.fit_transform(test['help_on_household'])\n",
        "test['job_or_business'] = label.fit_transform(test['job_or_business'])\n",
        "test['nature_of_work'] = label.fit_transform(test['nature_of_work'])"
      ],
      "execution_count": 10,
      "outputs": []
    },
    {
      "cell_type": "code",
      "metadata": {
        "colab": {
          "base_uri": "https://localhost:8080/"
        },
        "id": "FNevu-83ZAC7",
        "outputId": "a89aa21a-72b0-4b3a-cbe8-1d1f2ff7ea25"
      },
      "source": [
        "features_columns = [col for col in train.columns if col not in CFG.remove_features]\n",
        "len(features_columns)"
      ],
      "execution_count": 11,
      "outputs": [
        {
          "output_type": "execute_result",
          "data": {
            "text/plain": [
              "18"
            ]
          },
          "metadata": {
            "tags": []
          },
          "execution_count": 11
        }
      ]
    },
    {
      "cell_type": "code",
      "metadata": {
        "id": "CFtlkebBikh6"
      },
      "source": [
        ""
      ],
      "execution_count": 11,
      "outputs": []
    },
    {
      "cell_type": "code",
      "metadata": {
        "colab": {
          "base_uri": "https://localhost:8080/"
        },
        "id": "3Jm5a8aHZAAv",
        "outputId": "9ba5a421-e145-49b8-ed22-a4c7c4e6a08d"
      },
      "source": [
        "skf = StratifiedKFold(n_splits=CFG.n_splits,shuffle=True, random_state=CFG.SEED)\n",
        "\n",
        "X , y   = train[features_columns] , train[CFG.TARGET_COL]\n",
        "\n",
        "oof_cat = np.zeros((train.shape[0],))\n",
        "test['target'] = 0\n",
        "cat_preds= []\n",
        "\n",
        "for fold_, (trn_idx, val_idx) in enumerate(skf.split(X, y)):\n",
        "    print(50*'-')\n",
        "    print('Fold:',fold_+1)\n",
        "    X_train, y_train = X.iloc[trn_idx,:], y[trn_idx] \n",
        "    X_test, y_test = X.iloc[val_idx,:], y[val_idx] \n",
        "       \n",
        "    estimator = CatBoostClassifier(**CFG.catboost_params)\n",
        "    estimator.fit(Pool(X_train,y_train,cat_features = CFG.categ_features),\n",
        "                  eval_set = Pool(X_test,y_test,cat_features = CFG.categ_features),\n",
        "                  early_stopping_rounds=200)\n",
        "    \n",
        "    y_pred_val = estimator.predict_proba(X_test)[:,1]\n",
        "    oof_cat[val_idx] = y_pred_val\n",
        "    y_pred_test = estimator.predict_proba(test[features_columns])[:,1]\n",
        "    cat_preds.append(y_pred_test)\n",
        "    print(50*'-')\n",
        "    print()\n",
        "print('OOF score :',roc_auc_score(y, oof_cat))"
      ],
      "execution_count": 28,
      "outputs": [
        {
          "output_type": "stream",
          "text": [
            "--------------------------------------------------\n",
            "Fold: 1\n",
            "0:\ttest: 0.5934718\tbest: 0.5934718 (0)\ttotal: 30.7ms\tremaining: 5m 6s\n",
            "100:\ttest: 0.6539061\tbest: 0.6546734 (78)\ttotal: 1.65s\tremaining: 2m 41s\n",
            "200:\ttest: 0.6622835\tbest: 0.6631696 (194)\ttotal: 4.42s\tremaining: 3m 35s\n",
            "300:\ttest: 0.6632101\tbest: 0.6675306 (277)\ttotal: 7.18s\tremaining: 3m 51s\n",
            "400:\ttest: 0.6728414\tbest: 0.6728414 (400)\ttotal: 10.3s\tremaining: 4m 5s\n",
            "500:\ttest: 0.6726908\tbest: 0.6740923 (472)\ttotal: 13.3s\tremaining: 4m 12s\n",
            "600:\ttest: 0.6716078\tbest: 0.6748568 (512)\ttotal: 16.4s\tremaining: 4m 16s\n",
            "700:\ttest: 0.6746889\tbest: 0.6750421 (684)\ttotal: 19.5s\tremaining: 4m 18s\n",
            "800:\ttest: 0.6739765\tbest: 0.6750421 (684)\ttotal: 22.6s\tremaining: 4m 20s\n",
            "Stopped by overfitting detector  (200 iterations wait)\n",
            "\n",
            "bestTest = 0.6750421331\n",
            "bestIteration = 684\n",
            "\n",
            "Shrink model to first 685 iterations.\n",
            "--------------------------------------------------\n",
            "\n",
            "--------------------------------------------------\n",
            "Fold: 2\n",
            "0:\ttest: 0.5723372\tbest: 0.5723372 (0)\ttotal: 22.6ms\tremaining: 3m 45s\n",
            "100:\ttest: 0.6731596\tbest: 0.6749504 (82)\ttotal: 1.81s\tremaining: 2m 57s\n",
            "200:\ttest: 0.6712732\tbest: 0.6753301 (162)\ttotal: 4.54s\tremaining: 3m 41s\n",
            "300:\ttest: 0.6731625\tbest: 0.6753301 (162)\ttotal: 7.46s\tremaining: 4m\n",
            "400:\ttest: 0.6790711\tbest: 0.6803664 (388)\ttotal: 10.5s\tremaining: 4m 12s\n",
            "500:\ttest: 0.6810937\tbest: 0.6811517 (499)\ttotal: 13.6s\tremaining: 4m 18s\n",
            "600:\ttest: 0.6853940\tbest: 0.6855679 (582)\ttotal: 16.7s\tremaining: 4m 21s\n",
            "700:\ttest: 0.6866459\tbest: 0.6871559 (685)\ttotal: 19.8s\tremaining: 4m 22s\n",
            "800:\ttest: 0.6869588\tbest: 0.6877123 (777)\ttotal: 22.9s\tremaining: 4m 22s\n",
            "900:\ttest: 0.6894741\tbest: 0.6895089 (899)\ttotal: 26s\tremaining: 4m 22s\n",
            "1000:\ttest: 0.6879383\tbest: 0.6896248 (903)\ttotal: 29.2s\tremaining: 4m 22s\n",
            "1100:\ttest: 0.6876311\tbest: 0.6896248 (903)\ttotal: 32.3s\tremaining: 4m 21s\n",
            "Stopped by overfitting detector  (200 iterations wait)\n",
            "\n",
            "bestTest = 0.6896247957\n",
            "bestIteration = 903\n",
            "\n",
            "Shrink model to first 904 iterations.\n",
            "--------------------------------------------------\n",
            "\n",
            "--------------------------------------------------\n",
            "Fold: 3\n",
            "0:\ttest: 0.5308150\tbest: 0.5308150 (0)\ttotal: 21.1ms\tremaining: 3m 30s\n",
            "100:\ttest: 0.6192233\tbest: 0.6192233 (100)\ttotal: 1.67s\tremaining: 2m 43s\n",
            "200:\ttest: 0.6287425\tbest: 0.6287425 (198)\ttotal: 4.29s\tremaining: 3m 29s\n",
            "300:\ttest: 0.6278326\tbest: 0.6296930 (203)\ttotal: 7.06s\tremaining: 3m 47s\n",
            "400:\ttest: 0.6218747\tbest: 0.6296930 (203)\ttotal: 10.1s\tremaining: 4m\n",
            "Stopped by overfitting detector  (200 iterations wait)\n",
            "\n",
            "bestTest = 0.6296929514\n",
            "bestIteration = 203\n",
            "\n",
            "Shrink model to first 204 iterations.\n",
            "--------------------------------------------------\n",
            "\n",
            "--------------------------------------------------\n",
            "Fold: 4\n",
            "0:\ttest: 0.5431131\tbest: 0.5431131 (0)\ttotal: 21ms\tremaining: 3m 30s\n",
            "100:\ttest: 0.6382124\tbest: 0.6387514 (80)\ttotal: 1.85s\tremaining: 3m 1s\n",
            "200:\ttest: 0.6448483\tbest: 0.6448483 (200)\ttotal: 4.6s\tremaining: 3m 44s\n",
            "300:\ttest: 0.6433009\tbest: 0.6456829 (247)\ttotal: 7.37s\tremaining: 3m 57s\n",
            "400:\ttest: 0.6528955\tbest: 0.6528955 (400)\ttotal: 10.5s\tremaining: 4m 10s\n",
            "500:\ttest: 0.6510351\tbest: 0.6533649 (402)\ttotal: 13.5s\tremaining: 4m 16s\n",
            "600:\ttest: 0.6471086\tbest: 0.6533649 (402)\ttotal: 16.6s\tremaining: 4m 19s\n",
            "Stopped by overfitting detector  (200 iterations wait)\n",
            "\n",
            "bestTest = 0.6533648998\n",
            "bestIteration = 402\n",
            "\n",
            "Shrink model to first 403 iterations.\n",
            "--------------------------------------------------\n",
            "\n",
            "--------------------------------------------------\n",
            "Fold: 5\n",
            "0:\ttest: 0.5472917\tbest: 0.5472917 (0)\ttotal: 21.6ms\tremaining: 3m 35s\n",
            "100:\ttest: 0.6466623\tbest: 0.6474853 (99)\ttotal: 1.87s\tremaining: 3m 3s\n",
            "200:\ttest: 0.6511365\tbest: 0.6518146 (172)\ttotal: 4.61s\tremaining: 3m 44s\n",
            "300:\ttest: 0.6526144\tbest: 0.6541618 (276)\ttotal: 7.49s\tremaining: 4m 1s\n",
            "400:\ttest: 0.6619974\tbest: 0.6619974 (400)\ttotal: 10.5s\tremaining: 4m 12s\n",
            "500:\ttest: 0.6601718\tbest: 0.6624610 (410)\ttotal: 13.6s\tremaining: 4m 18s\n",
            "600:\ttest: 0.6593401\tbest: 0.6624610 (410)\ttotal: 16.7s\tremaining: 4m 21s\n",
            "Stopped by overfitting detector  (200 iterations wait)\n",
            "\n",
            "bestTest = 0.6624610249\n",
            "bestIteration = 410\n",
            "\n",
            "Shrink model to first 411 iterations.\n",
            "--------------------------------------------------\n",
            "\n",
            "OOF score : 0.6631805491330485\n"
          ],
          "name": "stdout"
        }
      ]
    },
    {
      "cell_type": "code",
      "metadata": {
        "id": "coyEjzMpY_8-"
      },
      "source": [
        "catboost_preds = np.mean(cat_preds,axis=0)"
      ],
      "execution_count": 17,
      "outputs": []
    },
    {
      "cell_type": "code",
      "metadata": {
        "colab": {
          "base_uri": "https://localhost:8080/"
        },
        "id": "HFFNcW9chRh4",
        "outputId": "e6f6dd8f-2850-478a-b790-2b5954d3af9e"
      },
      "source": [
        "skf = StratifiedKFold(n_splits=CFG.n_splits,shuffle=True, random_state=CFG.SEED)\n",
        "\n",
        "X , y   = train[features_columns] , train[CFG.TARGET_COL]\n",
        "\n",
        "oof_lgb = np.zeros((train.shape[0],))\n",
        "test['target'] = 0\n",
        "lgb_preds = []\n",
        "\n",
        "for fold_, (trn_idx, val_idx) in enumerate(skf.split(X, y)):\n",
        "    print(50*'-')\n",
        "    print('Fold:',fold_+1)\n",
        "\n",
        "    tr_x, tr_y = X.iloc[trn_idx,:], y[trn_idx] \n",
        "    vl_x, vl_y = X.iloc[val_idx,:], y[val_idx] \n",
        "        \n",
        "    train_data = lgb.Dataset(tr_x, label=tr_y,categorical_feature=CFG.categ_features)\n",
        "    valid_data = lgb.Dataset(vl_x, label=vl_y,categorical_feature=CFG.categ_features)\n",
        "\n",
        "    estimator = lgb.train(CFG.lgb_params,train_data,valid_sets = [train_data,valid_data],verbose_eval = 100)\n",
        "    \n",
        "    y_pred_val = estimator.predict(vl_x,num_iteration=estimator.best_iteration)\n",
        "    oof_lgb[val_idx] = y_pred_val\n",
        "    \n",
        "    y_pred_test = estimator.predict(test[features_columns],num_iteration=estimator.best_iteration)\n",
        "    lgb_preds.append(y_pred_test)\n",
        "    print(50*'-')\n",
        "\n",
        "print('OOF score :',roc_auc_score(y, oof_lgb))"
      ],
      "execution_count": 21,
      "outputs": [
        {
          "output_type": "stream",
          "text": [
            "--------------------------------------------------\n",
            "Fold: 1\n",
            "Training until validation scores don't improve for 100 rounds.\n",
            "[100]\ttraining's auc: 0.980203\tvalid_1's auc: 0.655392\n",
            "Early stopping, best iteration is:\n",
            "[15]\ttraining's auc: 0.841261\tvalid_1's auc: 0.678532\n",
            "--------------------------------------------------\n",
            "--------------------------------------------------\n",
            "Fold: 2\n",
            "Training until validation scores don't improve for 100 rounds.\n",
            "[100]\ttraining's auc: 0.978235\tvalid_1's auc: 0.665996\n",
            "Early stopping, best iteration is:\n",
            "[23]\ttraining's auc: 0.869643\tvalid_1's auc: 0.675895\n",
            "--------------------------------------------------\n",
            "--------------------------------------------------\n",
            "Fold: 3\n",
            "Training until validation scores don't improve for 100 rounds.\n",
            "[100]\ttraining's auc: 0.979532\tvalid_1's auc: 0.567698\n",
            "Early stopping, best iteration is:\n",
            "[26]\ttraining's auc: 0.878125\tvalid_1's auc: 0.608586\n",
            "--------------------------------------------------\n",
            "--------------------------------------------------\n",
            "Fold: 4\n",
            "Training until validation scores don't improve for 100 rounds.\n",
            "[100]\ttraining's auc: 0.979981\tvalid_1's auc: 0.635523\n",
            "Early stopping, best iteration is:\n",
            "[14]\ttraining's auc: 0.838685\tvalid_1's auc: 0.651829\n",
            "--------------------------------------------------\n",
            "--------------------------------------------------\n",
            "Fold: 5\n",
            "Training until validation scores don't improve for 100 rounds.\n",
            "[100]\ttraining's auc: 0.979591\tvalid_1's auc: 0.639264\n",
            "Early stopping, best iteration is:\n",
            "[44]\ttraining's auc: 0.919341\tvalid_1's auc: 0.656492\n",
            "--------------------------------------------------\n",
            "OOF score : 0.6498601728456015\n"
          ],
          "name": "stdout"
        }
      ]
    },
    {
      "cell_type": "code",
      "metadata": {
        "colab": {
          "base_uri": "https://localhost:8080/"
        },
        "id": "modr7L1SIw0m",
        "outputId": "37c1ea1c-254a-40b6-f174-85143c86600a"
      },
      "source": [
        "from xgboost import XGBClassifier\n",
        "skf = StratifiedKFold(n_splits=CFG.n_splits,shuffle=True, random_state=CFG.SEED)\n",
        "\n",
        "X , y   = train[features_columns] , train[CFG.TARGET_COL]\n",
        "\n",
        "oof_xgb = np.zeros((train.shape[0],))\n",
        "test['target'] = 0\n",
        "xgb_preds = []\n",
        "\n",
        "for fold_, (trn_idx, val_idx) in enumerate(skf.split(X, y)):\n",
        "    print(50*'-')\n",
        "    print('Fold:',fold_+1)\n",
        "\n",
        "    tr_x, tr_y = X.iloc[trn_idx,:], y[trn_idx] \n",
        "    vl_x, vl_y = X.iloc[val_idx,:], y[val_idx] \n",
        "\n",
        "    xgb=XGBClassifier(  learning_rate=0.1,  max_depth=6,\n",
        "              n_estimators = 500, n_jobs=-1,\n",
        "              objective='binary:logistic',random_state=0)\n",
        "    estimator = xgb.fit(tr_x, tr_y, early_stopping_rounds = 200, eval_metric=\"auc\",\n",
        "                           eval_set=[(vl_x, vl_y)],verbose=250)\n",
        "    train_predict = estimator.predict_proba(tr_x, ntree_limit = estimator.get_booster().best_ntree_limit)[:,1]\n",
        "    \n",
        "  \n",
        "        \n",
        "  \n",
        "    y_pred_val = estimator.predict_proba(vl_x, ntree_limit = estimator.get_booster().best_ntree_limit)[:,1]\n",
        "    oof_xgb[val_idx] = y_pred_val\n",
        "    \n",
        "    y_pred_test = estimator.predict(test[features_columns], ntree_limit = estimator.get_booster().best_ntree_limit)\n",
        "    xgb_preds.append(y_pred_test)\n",
        "    print(50*'-')\n",
        "\n",
        "print('OOF score :',roc_auc_score(y, oof_xgb))"
      ],
      "execution_count": 44,
      "outputs": [
        {
          "output_type": "stream",
          "text": [
            "--------------------------------------------------\n",
            "Fold: 1\n",
            "[0]\tvalidation_0-auc:0.606798\n",
            "Will train until validation_0-auc hasn't improved in 200 rounds.\n",
            "[250]\tvalidation_0-auc:0.670403\n",
            "[499]\tvalidation_0-auc:0.672757\n",
            "--------------------------------------------------\n",
            "--------------------------------------------------\n",
            "Fold: 2\n",
            "[0]\tvalidation_0-auc:0.645332\n",
            "Will train until validation_0-auc hasn't improved in 200 rounds.\n",
            "Stopping. Best iteration:\n",
            "[36]\tvalidation_0-auc:0.672496\n",
            "\n",
            "--------------------------------------------------\n",
            "--------------------------------------------------\n",
            "Fold: 3\n",
            "[0]\tvalidation_0-auc:0.572076\n",
            "Will train until validation_0-auc hasn't improved in 200 rounds.\n",
            "Stopping. Best iteration:\n",
            "[46]\tvalidation_0-auc:0.604665\n",
            "\n",
            "--------------------------------------------------\n",
            "--------------------------------------------------\n",
            "Fold: 4\n",
            "[0]\tvalidation_0-auc:0.588434\n",
            "Will train until validation_0-auc hasn't improved in 200 rounds.\n",
            "[250]\tvalidation_0-auc:0.623831\n",
            "Stopping. Best iteration:\n",
            "[139]\tvalidation_0-auc:0.627215\n",
            "\n",
            "--------------------------------------------------\n",
            "--------------------------------------------------\n",
            "Fold: 5\n",
            "[0]\tvalidation_0-auc:0.603271\n",
            "Will train until validation_0-auc hasn't improved in 200 rounds.\n",
            "[250]\tvalidation_0-auc:0.621739\n",
            "Stopping. Best iteration:\n",
            "[89]\tvalidation_0-auc:0.639148\n",
            "\n",
            "--------------------------------------------------\n",
            "OOF score : 0.6412465188079981\n"
          ],
          "name": "stdout"
        }
      ]
    },
    {
      "cell_type": "code",
      "metadata": {
        "id": "r16LoEDERocu"
      },
      "source": [
        "xgbm_preds = np.mean(xgb_preds,axis=0)"
      ],
      "execution_count": 45,
      "outputs": []
    },
    {
      "cell_type": "code",
      "metadata": {
        "id": "9FQP18Q-k0OX"
      },
      "source": [
        "lightgbm_preds = np.mean(lgb_preds,axis=0)"
      ],
      "execution_count": 22,
      "outputs": []
    },
    {
      "cell_type": "code",
      "metadata": {
        "id": "nPPerHDVmZn8"
      },
      "source": [
        "test['target'] = catboost_preds\n",
        "submission = test[['ID', 'target']]\n",
        "submission.to_csv('Women-Solution_cat2.csv',index = False)"
      ],
      "execution_count": 19,
      "outputs": []
    },
    {
      "cell_type": "code",
      "metadata": {
        "id": "W1mhY_xqlCyg"
      },
      "source": [
        "test['target'] = lightgbm_preds\n",
        "submission = test[['ID', 'target']]\n",
        "submission.to_csv('Women-Solution_lgbm.csv',index = False)"
      ],
      "execution_count": null,
      "outputs": []
    },
    {
      "cell_type": "code",
      "metadata": {
        "id": "2x0XBgXZY_6f"
      },
      "source": [
        "test['target'] = xgbm_preds*0.6 +  lightgbm_preds*0.4\n",
        "submission = test[['ID', 'target']]\n",
        "submission.to_csv('Women-Solution_xgb_lgbm.csv',index = False)"
      ],
      "execution_count": 47,
      "outputs": []
    },
    {
      "cell_type": "code",
      "metadata": {
        "colab": {
          "base_uri": "https://localhost:8080/",
          "height": 17
        },
        "id": "CJGQ8n8UY_zM",
        "outputId": "eba357c3-a640-4ffd-c1df-c9e73c1452a1"
      },
      "source": [
        "from google.colab import files\n",
        "files.download('Women-Solution_xgb_lgbm.csv')"
      ],
      "execution_count": 48,
      "outputs": [
        {
          "output_type": "display_data",
          "data": {
            "application/javascript": [
              "\n",
              "    async function download(id, filename, size) {\n",
              "      if (!google.colab.kernel.accessAllowed) {\n",
              "        return;\n",
              "      }\n",
              "      const div = document.createElement('div');\n",
              "      const label = document.createElement('label');\n",
              "      label.textContent = `Downloading \"${filename}\": `;\n",
              "      div.appendChild(label);\n",
              "      const progress = document.createElement('progress');\n",
              "      progress.max = size;\n",
              "      div.appendChild(progress);\n",
              "      document.body.appendChild(div);\n",
              "\n",
              "      const buffers = [];\n",
              "      let downloaded = 0;\n",
              "\n",
              "      const channel = await google.colab.kernel.comms.open(id);\n",
              "      // Send a message to notify the kernel that we're ready.\n",
              "      channel.send({})\n",
              "\n",
              "      for await (const message of channel.messages) {\n",
              "        // Send a message to notify the kernel that we're ready.\n",
              "        channel.send({})\n",
              "        if (message.buffers) {\n",
              "          for (const buffer of message.buffers) {\n",
              "            buffers.push(buffer);\n",
              "            downloaded += buffer.byteLength;\n",
              "            progress.value = downloaded;\n",
              "          }\n",
              "        }\n",
              "      }\n",
              "      const blob = new Blob(buffers, {type: 'application/binary'});\n",
              "      const a = document.createElement('a');\n",
              "      a.href = window.URL.createObjectURL(blob);\n",
              "      a.download = filename;\n",
              "      div.appendChild(a);\n",
              "      a.click();\n",
              "      div.remove();\n",
              "    }\n",
              "  "
            ],
            "text/plain": [
              "<IPython.core.display.Javascript object>"
            ]
          },
          "metadata": {
            "tags": []
          }
        },
        {
          "output_type": "display_data",
          "data": {
            "application/javascript": [
              "download(\"download_36ff1dbc-6e81-4a6c-8fde-986b55c00f39\", \"Women-Solution_xgb_lgbm.csv\", 107726)"
            ],
            "text/plain": [
              "<IPython.core.display.Javascript object>"
            ]
          },
          "metadata": {
            "tags": []
          }
        }
      ]
    },
    {
      "cell_type": "code",
      "metadata": {
        "id": "gyGYcgHfdpVW"
      },
      "source": [
        ""
      ],
      "execution_count": null,
      "outputs": []
    }
  ]
}
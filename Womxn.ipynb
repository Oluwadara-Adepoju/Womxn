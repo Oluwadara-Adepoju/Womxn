{
  "nbformat": 4,
  "nbformat_minor": 0,
  "metadata": {
    "colab": {
      "name": "Womxn.ipynb",
      "provenance": [],
      "authorship_tag": "ABX9TyOcQXO96eo9qNVNB1Ayd3T+",
      "include_colab_link": true
    },
    "kernelspec": {
      "name": "python3",
      "display_name": "Python 3"
    },
    "language_info": {
      "name": "python"
    }
  },
  "cells": [
    {
      "cell_type": "markdown",
      "metadata": {
        "id": "view-in-github",
        "colab_type": "text"
      },
      "source": [
        "<a href=\"https://colab.research.google.com/github/Oluwadara-Adepoju/Womxn/blob/main/Womxn.ipynb\" target=\"_parent\"><img src=\"https://colab.research.google.com/assets/colab-badge.svg\" alt=\"Open In Colab\"/></a>"
      ]
    },
    {
      "cell_type": "code",
      "metadata": {
        "colab": {
          "base_uri": "https://localhost:8080/"
        },
        "id": "wu5sK2XBEmF1",
        "outputId": "8adc31de-8b1c-471e-8b41-0e95cdaf076e"
      },
      "source": [
        "from google.colab import drive\n",
        "drive.mount('/content/drive')"
      ],
      "execution_count": 1,
      "outputs": [
        {
          "output_type": "stream",
          "text": [
            "Mounted at /content/drive\n"
          ],
          "name": "stdout"
        }
      ]
    },
    {
      "cell_type": "code",
      "metadata": {
        "id": "phAE2_jFFzIU"
      },
      "source": [
        "from sklearn.model_selection import train_test_split\n",
        "from sklearn.linear_model import LogisticRegression\n",
        "from sklearn.ensemble import RandomForestClassifier\n",
        "from sklearn.metrics import accuracy_score,  mean_squared_error, f1_score, roc_auc_score\n",
        "\n",
        "from sklearn.preprocessing import LabelEncoder\n",
        "\n",
        "label = LabelEncoder()"
      ],
      "execution_count": 2,
      "outputs": []
    },
    {
      "cell_type": "code",
      "metadata": {
        "colab": {
          "base_uri": "https://localhost:8080/"
        },
        "id": "8hqFs8xPaGii",
        "outputId": "1c6c4578-f447-4269-c704-cfe10d71a96e"
      },
      "source": [
        "!pip install catboost==0.22 --quiet"
      ],
      "execution_count": 3,
      "outputs": [
        {
          "output_type": "stream",
          "text": [
            "\u001b[K     |████████████████████████████████| 64.4MB 102kB/s \n",
            "\u001b[?25h"
          ],
          "name": "stdout"
        }
      ]
    },
    {
      "cell_type": "code",
      "metadata": {
        "id": "VYhZLuzhFzLC"
      },
      "source": [
        "import os, sys, gc, warnings, random\n",
        "import numpy as np \n",
        "import pandas as pd \n",
        "from sklearn.model_selection import StratifiedKFold\n",
        "from sklearn import preprocessing\n",
        "import lightgbm as lgb  \n",
        "from catboost import CatBoostClassifier ,Pool\n",
        "\n",
        "from sklearn.metrics import auc, classification_report, roc_auc_score\n",
        "from lightgbm import LGBMClassifier\n",
        "from sklearn.ensemble import RandomForestClassifier\n",
        "\n",
        "import matplotlib.pyplot as plt\n",
        "import seaborn as sns\n",
        "%matplotlib inline\n",
        "\n",
        "import warnings\n",
        "warnings.filterwarnings('ignore')"
      ],
      "execution_count": 4,
      "outputs": []
    },
    {
      "cell_type": "code",
      "metadata": {
        "id": "DBYLK1vZVVGd"
      },
      "source": [
        "class CFG :\n",
        "  SEED = 42\n",
        "  n_splits = 10\n",
        "  catboost_params = {'learning_rate':0.06,'iterations':10000,'eval_metric':'AUC',\n",
        "                      'use_best_model' :True,'verbose':100,'random_seed': 0,\n",
        "                      'devices':'0:1',}#'task_type':\"GPU\",}\n",
        "\n",
        "  lgb_params = {'boosting_type': 'gbdt','objective': 'binary','metric': 'auc',\n",
        "                'n_estimators': 5000,'sub_sample' : 0.5,'colsample_bytree' : 0.9,\n",
        "                'seed': SEED,'silent':False,'early_stopping_rounds': 100,'num_leaves':120}\n",
        "                \n",
        "  xgb_params = {\n",
        "              'learning_rate':0.1,  'max_depth':7,\n",
        "              'n_estimators':100, 'n_jobs': -1,\n",
        "              'objective':'binary:logistic', 'random_state':SEED, 'verbosity':100,'eval_metric':'auc'}\n",
        "\n",
        "               \n",
        "  remove_features = ['ID', 'gender', 'target']\n",
        "  categ_features = ['race','dwelling','dwelling_type','province_code','metro_code','nationality','RTH','marital_st','Lang_inside','Lang_outside','Education','lw_work','lw_business','help_on_household','job_or_business','nature_of_work']\n",
        "  TARGET_COL = 'target'"
      ],
      "execution_count": 85,
      "outputs": []
    },
    {
      "cell_type": "code",
      "metadata": {
        "id": "-7TtUXecVVKE"
      },
      "source": [
        "def seed_everything(seed):\n",
        "    random.seed(seed)\n",
        "    np.random.seed(seed)"
      ],
      "execution_count": 54,
      "outputs": []
    },
    {
      "cell_type": "code",
      "metadata": {
        "id": "7uSinArpFzNz"
      },
      "source": [
        "train= pd.read_csv ( \"/content/drive/My Drive/Colab Notebooks/Women/Train (2).csv\")\n",
        "test = pd.read_csv(\"/content/drive/My Drive/Colab Notebooks/Women/Test (1).csv\")\n",
        "vd = pd.read_csv ( \"/content/drive/My Drive/Colab Notebooks/Women/VariableDefinitions.csv\")\n",
        "ss=pd.read_csv ( \"/content/drive/My Drive/Colab Notebooks/Women/SampleSubmission (1).csv\")"
      ],
      "execution_count": 7,
      "outputs": []
    },
    {
      "cell_type": "code",
      "metadata": {
        "id": "jzfcP-oAZAGR"
      },
      "source": [
        "seed_everything(CFG.SEED)"
      ],
      "execution_count": 8,
      "outputs": []
    },
    {
      "cell_type": "code",
      "metadata": {
        "id": "q8cwPYUCjGhX"
      },
      "source": [
        "train['gender'] = label.fit_transform(train['gender'])\n",
        "train['race'] = label.fit_transform(train['race'])\n",
        "train['dwelling'] = label.fit_transform(train['dwelling'])\n",
        "train['dwelling_type'] = label.fit_transform(train['dwelling_type'])\n",
        "train['province_code'] = label.fit_transform(train['province_code'])\n",
        "train['metro_code'] = label.fit_transform(train['metro_code'])\n",
        "train['nationality'] = label.fit_transform(train['nationality'])\n",
        "train['RTH'] = label.fit_transform(train['RTH'])\n",
        "train['marital_st'] = label.fit_transform(train['marital_st'])\n",
        "train['Lang_inside'] = label.fit_transform(train['Lang_inside'])\n",
        "train['Lang_outside'] = label.fit_transform(train['Lang_outside'])\n",
        "train['Education'] = label.fit_transform(train['Education'])\n",
        "train['lw_work'] = label.fit_transform(train['lw_work'])\n",
        "train['lw_business'] = label.fit_transform(train['lw_business'])\n",
        "train['help_on_household'] = label.fit_transform(train['help_on_household'])\n",
        "train['job_or_business'] = label.fit_transform(train['job_or_business'])\n",
        "train['nature_of_work'] = label.fit_transform(train['nature_of_work'])\n"
      ],
      "execution_count": 9,
      "outputs": []
    },
    {
      "cell_type": "code",
      "metadata": {
        "id": "Fh9zoBA0ju3G"
      },
      "source": [
        "test['gender'] = label.fit_transform(test['gender'])\n",
        "test['race'] = label.fit_transform(test['race'])\n",
        "test['dwelling'] = label.fit_transform(test['dwelling'])\n",
        "test['dwelling_type'] = label.fit_transform(test['dwelling_type'])\n",
        "test['province_code'] = label.fit_transform(test['province_code'])\n",
        "test['metro_code'] = label.fit_transform(test['metro_code'])\n",
        "test['nationality'] = label.fit_transform(test['nationality'])\n",
        "test['RTH'] = label.fit_transform(test['RTH'])\n",
        "test['marital_st'] = label.fit_transform(test['marital_st'])\n",
        "test['Lang_inside'] = label.fit_transform(test['Lang_inside'])\n",
        "test['Lang_outside'] = label.fit_transform(test['Lang_outside'])\n",
        "test['Education'] = label.fit_transform(test['Education'])\n",
        "test['lw_work'] = label.fit_transform(test['lw_work'])\n",
        "test['lw_business'] = label.fit_transform(test['lw_business'])\n",
        "test['help_on_household'] = label.fit_transform(test['help_on_household'])\n",
        "test['job_or_business'] = label.fit_transform(test['job_or_business'])\n",
        "test['nature_of_work'] = label.fit_transform(test['nature_of_work'])"
      ],
      "execution_count": 10,
      "outputs": []
    },
    {
      "cell_type": "code",
      "metadata": {
        "colab": {
          "base_uri": "https://localhost:8080/"
        },
        "id": "FNevu-83ZAC7",
        "outputId": "a89aa21a-72b0-4b3a-cbe8-1d1f2ff7ea25"
      },
      "source": [
        "features_columns = [col for col in train.columns if col not in CFG.remove_features]\n",
        "len(features_columns)"
      ],
      "execution_count": 11,
      "outputs": [
        {
          "output_type": "execute_result",
          "data": {
            "text/plain": [
              "18"
            ]
          },
          "metadata": {
            "tags": []
          },
          "execution_count": 11
        }
      ]
    },
    {
      "cell_type": "code",
      "metadata": {
        "id": "CFtlkebBikh6"
      },
      "source": [
        ""
      ],
      "execution_count": 11,
      "outputs": []
    },
    {
      "cell_type": "code",
      "metadata": {
        "colab": {
          "base_uri": "https://localhost:8080/"
        },
        "id": "3Jm5a8aHZAAv",
        "outputId": "1826e6d4-eaa5-40e6-b442-8ed7956eadf9"
      },
      "source": [
        "skf = StratifiedKFold(n_splits=CFG.n_splits,shuffle=True, random_state=CFG.SEED)\n",
        "\n",
        "X , y   = train[features_columns] , train[CFG.TARGET_COL]\n",
        "\n",
        "oof_cat = np.zeros((train.shape[0],))\n",
        "test['target'] = 0\n",
        "cat_preds= []\n",
        "\n",
        "for fold_, (trn_idx, val_idx) in enumerate(skf.split(X, y)):\n",
        "    print(50*'-')\n",
        "    print('Fold:',fold_+1)\n",
        "    X_train, y_train = X.iloc[trn_idx,:], y[trn_idx] \n",
        "    X_test, y_test = X.iloc[val_idx,:], y[val_idx] \n",
        "       \n",
        "    estimator = CatBoostClassifier(**CFG.catboost_params)\n",
        "    estimator.fit(Pool(X_train,y_train,cat_features = CFG.categ_features),\n",
        "                  eval_set = Pool(X_test,y_test,cat_features = CFG.categ_features),\n",
        "                  early_stopping_rounds=200)\n",
        "    \n",
        "    y_pred_val = estimator.predict_proba(X_test)[:,1]\n",
        "    oof_cat[val_idx] = y_pred_val\n",
        "    y_pred_test = estimator.predict_proba(test[features_columns])[:,1]\n",
        "    cat_preds.append(y_pred_test)\n",
        "    print(50*'-')\n",
        "    print()\n",
        "print('OOF score :',roc_auc_score(y, oof_cat))"
      ],
      "execution_count": 86,
      "outputs": [
        {
          "output_type": "stream",
          "text": [
            "--------------------------------------------------\n",
            "Fold: 1\n",
            "0:\ttest: 0.5747899\tbest: 0.5747899 (0)\ttotal: 31ms\tremaining: 5m 10s\n",
            "100:\ttest: 0.6468254\tbest: 0.6531863 (64)\ttotal: 2.34s\tremaining: 3m 48s\n",
            "200:\ttest: 0.6419935\tbest: 0.6541550 (136)\ttotal: 5.5s\tremaining: 4m 27s\n",
            "300:\ttest: 0.6340336\tbest: 0.6541550 (136)\ttotal: 8.8s\tremaining: 4m 43s\n",
            "Stopped by overfitting detector  (200 iterations wait)\n",
            "\n",
            "bestTest = 0.6541549953\n",
            "bestIteration = 136\n",
            "\n",
            "Shrink model to first 137 iterations.\n",
            "--------------------------------------------------\n",
            "\n",
            "--------------------------------------------------\n",
            "Fold: 2\n",
            "0:\ttest: 0.5908077\tbest: 0.5908077 (0)\ttotal: 28.7ms\tremaining: 4m 46s\n",
            "100:\ttest: 0.6909848\tbest: 0.6922953 (99)\ttotal: 2.36s\tremaining: 3m 51s\n",
            "200:\ttest: 0.6997103\tbest: 0.6997103 (200)\ttotal: 5.41s\tremaining: 4m 23s\n",
            "300:\ttest: 0.6930311\tbest: 0.7038489 (207)\ttotal: 8.7s\tremaining: 4m 40s\n",
            "400:\ttest: 0.6900651\tbest: 0.7038489 (207)\ttotal: 12s\tremaining: 4m 47s\n",
            "Stopped by overfitting detector  (200 iterations wait)\n",
            "\n",
            "bestTest = 0.7038488952\n",
            "bestIteration = 207\n",
            "\n",
            "Shrink model to first 208 iterations.\n",
            "--------------------------------------------------\n",
            "\n",
            "--------------------------------------------------\n",
            "Fold: 3\n",
            "0:\ttest: 0.5972340\tbest: 0.5972340 (0)\ttotal: 28ms\tremaining: 4m 39s\n",
            "100:\ttest: 0.6578875\tbest: 0.6630952 (67)\ttotal: 2.45s\tremaining: 4m\n",
            "200:\ttest: 0.6542777\tbest: 0.6630952 (67)\ttotal: 5.56s\tremaining: 4m 30s\n",
            "Stopped by overfitting detector  (200 iterations wait)\n",
            "\n",
            "bestTest = 0.6630952107\n",
            "bestIteration = 67\n",
            "\n",
            "Shrink model to first 68 iterations.\n",
            "--------------------------------------------------\n",
            "\n",
            "--------------------------------------------------\n",
            "Fold: 4\n",
            "0:\ttest: 0.6563240\tbest: 0.6563240 (0)\ttotal: 29.2ms\tremaining: 4m 52s\n",
            "100:\ttest: 0.7066999\tbest: 0.7198515 (42)\ttotal: 2.41s\tremaining: 3m 56s\n",
            "200:\ttest: 0.7151036\tbest: 0.7198515 (42)\ttotal: 5.66s\tremaining: 4m 35s\n",
            "300:\ttest: 0.7228060\tbest: 0.7278183 (274)\ttotal: 8.96s\tremaining: 4m 48s\n",
            "400:\ttest: 0.7304164\tbest: 0.7304164 (400)\ttotal: 12.3s\tremaining: 4m 54s\n",
            "500:\ttest: 0.7318189\tbest: 0.7324627 (496)\ttotal: 15.7s\tremaining: 4m 57s\n",
            "600:\ttest: 0.7304624\tbest: 0.7333134 (570)\ttotal: 19s\tremaining: 4m 57s\n",
            "700:\ttest: 0.7306923\tbest: 0.7349459 (657)\ttotal: 22.4s\tremaining: 4m 56s\n",
            "800:\ttest: 0.7268526\tbest: 0.7349459 (657)\ttotal: 25.7s\tremaining: 4m 55s\n",
            "Stopped by overfitting detector  (200 iterations wait)\n",
            "\n",
            "bestTest = 0.7349458534\n",
            "bestIteration = 657\n",
            "\n",
            "Shrink model to first 658 iterations.\n",
            "--------------------------------------------------\n",
            "\n",
            "--------------------------------------------------\n",
            "Fold: 5\n",
            "0:\ttest: 0.5312924\tbest: 0.5312924 (0)\ttotal: 28.8ms\tremaining: 4m 48s\n",
            "100:\ttest: 0.5963718\tbest: 0.5965903 (86)\ttotal: 2.43s\tremaining: 3m 58s\n",
            "200:\ttest: 0.5980503\tbest: 0.6032005 (144)\ttotal: 5.6s\tremaining: 4m 33s\n",
            "300:\ttest: 0.5912906\tbest: 0.6032005 (144)\ttotal: 8.88s\tremaining: 4m 46s\n",
            "Stopped by overfitting detector  (200 iterations wait)\n",
            "\n",
            "bestTest = 0.603200515\n",
            "bestIteration = 144\n",
            "\n",
            "Shrink model to first 145 iterations.\n",
            "--------------------------------------------------\n",
            "\n",
            "--------------------------------------------------\n",
            "Fold: 6\n",
            "0:\ttest: 0.5728968\tbest: 0.5728968 (0)\ttotal: 28.2ms\tremaining: 4m 41s\n",
            "100:\ttest: 0.6301244\tbest: 0.6312050 (90)\ttotal: 2.53s\tremaining: 4m 8s\n",
            "200:\ttest: 0.6169039\tbest: 0.6312050 (90)\ttotal: 5.62s\tremaining: 4m 33s\n",
            "Stopped by overfitting detector  (200 iterations wait)\n",
            "\n",
            "bestTest = 0.6312050215\n",
            "bestIteration = 90\n",
            "\n",
            "Shrink model to first 91 iterations.\n",
            "--------------------------------------------------\n",
            "\n",
            "--------------------------------------------------\n",
            "Fold: 7\n",
            "0:\ttest: 0.4431627\tbest: 0.4431627 (0)\ttotal: 31.8ms\tremaining: 5m 18s\n",
            "100:\ttest: 0.6374708\tbest: 0.6432211 (70)\ttotal: 2.42s\tremaining: 3m 57s\n",
            "200:\ttest: 0.6441561\tbest: 0.6502688 (173)\ttotal: 5.6s\tremaining: 4m 33s\n",
            "300:\ttest: 0.6393525\tbest: 0.6514376 (234)\ttotal: 8.86s\tremaining: 4m 45s\n",
            "400:\ttest: 0.6383941\tbest: 0.6514376 (234)\ttotal: 12.2s\tremaining: 4m 52s\n",
            "Stopped by overfitting detector  (200 iterations wait)\n",
            "\n",
            "bestTest = 0.6514375877\n",
            "bestIteration = 234\n",
            "\n",
            "Shrink model to first 235 iterations.\n",
            "--------------------------------------------------\n",
            "\n",
            "--------------------------------------------------\n",
            "Fold: 8\n",
            "0:\ttest: 0.5399252\tbest: 0.5399252 (0)\ttotal: 32.9ms\tremaining: 5m 28s\n",
            "100:\ttest: 0.6595839\tbest: 0.6670407 (46)\ttotal: 2.39s\tremaining: 3m 54s\n",
            "200:\ttest: 0.6530388\tbest: 0.6670407 (46)\ttotal: 5.48s\tremaining: 4m 27s\n",
            "Stopped by overfitting detector  (200 iterations wait)\n",
            "\n",
            "bestTest = 0.6670406732\n",
            "bestIteration = 46\n",
            "\n",
            "Shrink model to first 47 iterations.\n",
            "--------------------------------------------------\n",
            "\n",
            "--------------------------------------------------\n",
            "Fold: 9\n",
            "0:\ttest: 0.5084151\tbest: 0.5084151 (0)\ttotal: 11.4ms\tremaining: 1m 53s\n",
            "100:\ttest: 0.6294413\tbest: 0.6313932 (69)\ttotal: 2.38s\tremaining: 3m 53s\n",
            "200:\ttest: 0.6337190\tbest: 0.6367578 (151)\ttotal: 5.6s\tremaining: 4m 32s\n",
            "300:\ttest: 0.6309257\tbest: 0.6367578 (151)\ttotal: 8.95s\tremaining: 4m 48s\n",
            "Stopped by overfitting detector  (200 iterations wait)\n",
            "\n",
            "bestTest = 0.6367578308\n",
            "bestIteration = 151\n",
            "\n",
            "Shrink model to first 152 iterations.\n",
            "--------------------------------------------------\n",
            "\n",
            "--------------------------------------------------\n",
            "Fold: 10\n",
            "0:\ttest: 0.5321646\tbest: 0.5321646 (0)\ttotal: 35.2ms\tremaining: 5m 51s\n",
            "100:\ttest: 0.6444834\tbest: 0.6466573 (81)\ttotal: 2.49s\tremaining: 4m 4s\n",
            "200:\ttest: 0.6399135\tbest: 0.6466573 (81)\ttotal: 5.65s\tremaining: 4m 35s\n",
            "Stopped by overfitting detector  (200 iterations wait)\n",
            "\n",
            "bestTest = 0.6466573165\n",
            "bestIteration = 81\n",
            "\n",
            "Shrink model to first 82 iterations.\n",
            "--------------------------------------------------\n",
            "\n",
            "OOF score : 0.6553885896869796\n"
          ],
          "name": "stdout"
        }
      ]
    },
    {
      "cell_type": "code",
      "metadata": {
        "id": "coyEjzMpY_8-"
      },
      "source": [
        "catboost_preds = np.mean(cat_preds,axis=0)"
      ],
      "execution_count": 88,
      "outputs": []
    },
    {
      "cell_type": "code",
      "metadata": {
        "colab": {
          "base_uri": "https://localhost:8080/"
        },
        "id": "HFFNcW9chRh4",
        "outputId": "c48891a3-5e62-490d-8758-3194a6a0e046"
      },
      "source": [
        "skf = StratifiedKFold(n_splits=CFG.n_splits,shuffle=True, random_state=CFG.SEED)\n",
        "\n",
        "X , y   = train[features_columns] , train[CFG.TARGET_COL]\n",
        "\n",
        "oof_lgb = np.zeros((train.shape[0],))\n",
        "test['target'] = 0\n",
        "lgb_preds = []\n",
        "\n",
        "for fold_, (trn_idx, val_idx) in enumerate(skf.split(X, y)):\n",
        "    print(50*'-')\n",
        "    print('Fold:',fold_+1)\n",
        "\n",
        "    tr_x, tr_y = X.iloc[trn_idx,:], y[trn_idx] \n",
        "    vl_x, vl_y = X.iloc[val_idx,:], y[val_idx] \n",
        "        \n",
        "    train_data = lgb.Dataset(tr_x, label=tr_y,categorical_feature=CFG.categ_features)\n",
        "    valid_data = lgb.Dataset(vl_x, label=vl_y,categorical_feature=CFG.categ_features)\n",
        "\n",
        "    estimator = lgb.train(CFG.lgb_params,train_data,valid_sets = [train_data,valid_data],verbose_eval = 100)\n",
        "    \n",
        "    y_pred_val = estimator.predict(vl_x,num_iteration=estimator.best_iteration)\n",
        "    oof_lgb[val_idx] = y_pred_val\n",
        "    \n",
        "    y_pred_test = estimator.predict(test[features_columns],num_iteration=estimator.best_iteration)\n",
        "    lgb_preds.append(y_pred_test)\n",
        "    print(50*'-')\n",
        "\n",
        "print('OOF score :',roc_auc_score(y, oof_lgb))"
      ],
      "execution_count": 58,
      "outputs": [
        {
          "output_type": "stream",
          "text": [
            "--------------------------------------------------\n",
            "Fold: 1\n",
            "Training until validation scores don't improve for 100 rounds.\n",
            "[100]\ttraining's auc: 0.999995\tvalid_1's auc: 0.646639\n",
            "Early stopping, best iteration is:\n",
            "[27]\ttraining's auc: 0.989368\tvalid_1's auc: 0.65852\n",
            "--------------------------------------------------\n",
            "--------------------------------------------------\n",
            "Fold: 2\n",
            "Training until validation scores don't improve for 100 rounds.\n",
            "[100]\ttraining's auc: 0.999993\tvalid_1's auc: 0.737291\n",
            "Early stopping, best iteration is:\n",
            "[54]\ttraining's auc: 0.999513\tvalid_1's auc: 0.742786\n",
            "--------------------------------------------------\n",
            "--------------------------------------------------\n",
            "Fold: 3\n",
            "Training until validation scores don't improve for 100 rounds.\n",
            "[100]\ttraining's auc: 0.999996\tvalid_1's auc: 0.62456\n",
            "Early stopping, best iteration is:\n",
            "[28]\ttraining's auc: 0.990301\tvalid_1's auc: 0.651898\n",
            "--------------------------------------------------\n",
            "--------------------------------------------------\n",
            "Fold: 4\n",
            "Training until validation scores don't improve for 100 rounds.\n",
            "[100]\ttraining's auc: 0.999993\tvalid_1's auc: 0.658359\n",
            "Early stopping, best iteration is:\n",
            "[17]\ttraining's auc: 0.961778\tvalid_1's auc: 0.680983\n",
            "--------------------------------------------------\n",
            "--------------------------------------------------\n",
            "Fold: 5\n",
            "Training until validation scores don't improve for 100 rounds.\n",
            "[100]\ttraining's auc: 0.999996\tvalid_1's auc: 0.548203\n",
            "Early stopping, best iteration is:\n",
            "[1]\ttraining's auc: 0.791996\tvalid_1's auc: 0.620054\n",
            "--------------------------------------------------\n",
            "--------------------------------------------------\n",
            "Fold: 6\n",
            "Training until validation scores don't improve for 100 rounds.\n",
            "[100]\ttraining's auc: 0.99999\tvalid_1's auc: 0.642103\n",
            "Early stopping, best iteration is:\n",
            "[3]\ttraining's auc: 0.858424\tvalid_1's auc: 0.687226\n",
            "--------------------------------------------------\n",
            "--------------------------------------------------\n",
            "Fold: 7\n",
            "Training until validation scores don't improve for 100 rounds.\n",
            "[100]\ttraining's auc: 0.999996\tvalid_1's auc: 0.675514\n",
            "Early stopping, best iteration is:\n",
            "[27]\ttraining's auc: 0.9875\tvalid_1's auc: 0.688277\n",
            "--------------------------------------------------\n",
            "--------------------------------------------------\n",
            "Fold: 8\n",
            "Training until validation scores don't improve for 100 rounds.\n",
            "[100]\ttraining's auc: 0.999993\tvalid_1's auc: 0.636068\n",
            "Early stopping, best iteration is:\n",
            "[1]\ttraining's auc: 0.793038\tvalid_1's auc: 0.641877\n",
            "--------------------------------------------------\n",
            "--------------------------------------------------\n",
            "Fold: 9\n",
            "Training until validation scores don't improve for 100 rounds.\n",
            "[100]\ttraining's auc: 0.999995\tvalid_1's auc: 0.633474\n",
            "Early stopping, best iteration is:\n",
            "[25]\ttraining's auc: 0.979293\tvalid_1's auc: 0.654722\n",
            "--------------------------------------------------\n",
            "--------------------------------------------------\n",
            "Fold: 10\n",
            "Training until validation scores don't improve for 100 rounds.\n",
            "[100]\ttraining's auc: 0.999993\tvalid_1's auc: 0.617017\n",
            "Early stopping, best iteration is:\n",
            "[5]\ttraining's auc: 0.874956\tvalid_1's auc: 0.642765\n",
            "--------------------------------------------------\n",
            "OOF score : 0.6560859290885681\n"
          ],
          "name": "stdout"
        }
      ]
    },
    {
      "cell_type": "code",
      "metadata": {
        "colab": {
          "base_uri": "https://localhost:8080/"
        },
        "id": "modr7L1SIw0m",
        "outputId": "124dde4a-82d4-4da6-cb48-e90f55b3fa27"
      },
      "source": [
        "from xgboost import XGBClassifier\n",
        "skf = StratifiedKFold(n_splits=CFG.n_splits,shuffle=True, random_state=CFG.SEED)\n",
        "\n",
        "X , y   = train[features_columns] , train[CFG.TARGET_COL]\n",
        "\n",
        "oof_xgb = np.zeros((train.shape[0],))\n",
        "test['target'] = 0\n",
        "xgb_preds = []\n",
        "\n",
        "for fold_, (trn_idx, val_idx) in enumerate(skf.split(X, y)):\n",
        "    print(50*'-')\n",
        "    print('Fold:',fold_+1)\n",
        "\n",
        "    tr_x, tr_y = X.iloc[trn_idx,:], y[trn_idx] \n",
        "    vl_x, vl_y = X.iloc[val_idx,:], y[val_idx] \n",
        "\n",
        "    xgb=XGBClassifier(learning_rate=0.01,subsample=0.7,colsample_bytree=0.9,reg_alpha=10,\n",
        "               n_jobs=-1,n_estimators=5000,max_depth= 5,random_state=34)\n",
        "    estimator = xgb.fit(tr_x, tr_y, early_stopping_rounds = 200, eval_metric=\"auc\",\n",
        "                           eval_set=[(vl_x, vl_y)],verbose=250)\n",
        "    train_predict = estimator.predict_proba(tr_x, ntree_limit = estimator.get_booster().best_ntree_limit)[:,1]\n",
        "    \n",
        "  \n",
        "        \n",
        "  \n",
        "    y_pred_val = estimator.predict_proba(vl_x, ntree_limit = estimator.get_booster().best_ntree_limit)[:,1]\n",
        "    oof_xgb[val_idx] = y_pred_val\n",
        "    \n",
        "    y_pred_test = estimator.predict(test[features_columns], ntree_limit = estimator.get_booster().best_ntree_limit)\n",
        "    xgb_preds.append(y_pred_test)\n",
        "    print(50*'-')\n",
        "\n",
        "print('OOF score :',roc_auc_score(y, oof_xgb))"
      ],
      "execution_count": 59,
      "outputs": [
        {
          "output_type": "stream",
          "text": [
            "--------------------------------------------------\n",
            "Fold: 1\n",
            "[0]\tvalidation_0-auc:0.5\n",
            "Will train until validation_0-auc hasn't improved in 200 rounds.\n",
            "[250]\tvalidation_0-auc:0.590558\n",
            "[500]\tvalidation_0-auc:0.625163\n",
            "[750]\tvalidation_0-auc:0.641573\n",
            "[1000]\tvalidation_0-auc:0.648366\n",
            "[1250]\tvalidation_0-auc:0.652194\n",
            "[1500]\tvalidation_0-auc:0.654015\n",
            "[1750]\tvalidation_0-auc:0.654902\n",
            "[2000]\tvalidation_0-auc:0.658193\n",
            "[2250]\tvalidation_0-auc:0.659781\n",
            "[2500]\tvalidation_0-auc:0.659314\n",
            "Stopping. Best iteration:\n",
            "[2336]\tvalidation_0-auc:0.660294\n",
            "\n",
            "--------------------------------------------------\n",
            "--------------------------------------------------\n",
            "Fold: 2\n",
            "[0]\tvalidation_0-auc:0.5\n",
            "Will train until validation_0-auc hasn't improved in 200 rounds.\n",
            "[250]\tvalidation_0-auc:0.646391\n",
            "[500]\tvalidation_0-auc:0.666464\n",
            "[750]\tvalidation_0-auc:0.680822\n",
            "[1000]\tvalidation_0-auc:0.69356\n",
            "[1250]\tvalidation_0-auc:0.703883\n",
            "[1500]\tvalidation_0-auc:0.707493\n",
            "[1750]\tvalidation_0-auc:0.712597\n",
            "[2000]\tvalidation_0-auc:0.715839\n",
            "[2250]\tvalidation_0-auc:0.72076\n",
            "[2500]\tvalidation_0-auc:0.722346\n",
            "[2750]\tvalidation_0-auc:0.722668\n",
            "Stopping. Best iteration:\n",
            "[2608]\tvalidation_0-auc:0.723749\n",
            "\n",
            "--------------------------------------------------\n",
            "--------------------------------------------------\n",
            "Fold: 3\n",
            "[0]\tvalidation_0-auc:0.5\n",
            "Will train until validation_0-auc hasn't improved in 200 rounds.\n",
            "[250]\tvalidation_0-auc:0.636528\n",
            "[500]\tvalidation_0-auc:0.651231\n",
            "[750]\tvalidation_0-auc:0.659003\n",
            "[1000]\tvalidation_0-auc:0.662199\n",
            "[1250]\tvalidation_0-auc:0.666728\n",
            "[1500]\tvalidation_0-auc:0.669165\n",
            "[1750]\tvalidation_0-auc:0.669257\n",
            "Stopping. Best iteration:\n",
            "[1659]\tvalidation_0-auc:0.670867\n",
            "\n",
            "--------------------------------------------------\n",
            "--------------------------------------------------\n",
            "Fold: 4\n",
            "[0]\tvalidation_0-auc:0.5\n",
            "Will train until validation_0-auc hasn't improved in 200 rounds.\n",
            "[250]\tvalidation_0-auc:0.674695\n",
            "[500]\tvalidation_0-auc:0.682363\n",
            "Stopping. Best iteration:\n",
            "[364]\tvalidation_0-auc:0.684087\n",
            "\n",
            "--------------------------------------------------\n",
            "--------------------------------------------------\n",
            "Fold: 5\n",
            "[0]\tvalidation_0-auc:0.5\n",
            "Will train until validation_0-auc hasn't improved in 200 rounds.\n",
            "[250]\tvalidation_0-auc:0.585876\n",
            "Stopping. Best iteration:\n",
            "[173]\tvalidation_0-auc:0.605132\n",
            "\n",
            "--------------------------------------------------\n",
            "--------------------------------------------------\n",
            "Fold: 6\n",
            "[0]\tvalidation_0-auc:0.5\n",
            "Will train until validation_0-auc hasn't improved in 200 rounds.\n",
            "[250]\tvalidation_0-auc:0.638804\n",
            "Stopping. Best iteration:\n",
            "[258]\tvalidation_0-auc:0.641092\n",
            "\n",
            "--------------------------------------------------\n",
            "--------------------------------------------------\n",
            "Fold: 7\n",
            "[0]\tvalidation_0-auc:0.497195\n",
            "Will train until validation_0-auc hasn't improved in 200 rounds.\n",
            "[250]\tvalidation_0-auc:0.597207\n",
            "[500]\tvalidation_0-auc:0.615054\n",
            "[750]\tvalidation_0-auc:0.633322\n",
            "[1000]\tvalidation_0-auc:0.646716\n",
            "[1250]\tvalidation_0-auc:0.650175\n",
            "[1500]\tvalidation_0-auc:0.653167\n",
            "[1750]\tvalidation_0-auc:0.655692\n",
            "[2000]\tvalidation_0-auc:0.660063\n",
            "Stopping. Best iteration:\n",
            "[2004]\tvalidation_0-auc:0.660227\n",
            "\n",
            "--------------------------------------------------\n",
            "--------------------------------------------------\n",
            "Fold: 8\n",
            "[0]\tvalidation_0-auc:0.5\n",
            "Will train until validation_0-auc hasn't improved in 200 rounds.\n",
            "[250]\tvalidation_0-auc:0.609689\n",
            "[500]\tvalidation_0-auc:0.623843\n",
            "[750]\tvalidation_0-auc:0.634058\n",
            "[1000]\tvalidation_0-auc:0.63913\n",
            "[1250]\tvalidation_0-auc:0.639388\n",
            "[1500]\tvalidation_0-auc:0.63899\n",
            "Stopping. Best iteration:\n",
            "[1320]\tvalidation_0-auc:0.641281\n",
            "\n",
            "--------------------------------------------------\n",
            "--------------------------------------------------\n",
            "Fold: 9\n",
            "[0]\tvalidation_0-auc:0.5\n",
            "Will train until validation_0-auc hasn't improved in 200 rounds.\n",
            "[250]\tvalidation_0-auc:0.583427\n",
            "[500]\tvalidation_0-auc:0.612179\n",
            "[750]\tvalidation_0-auc:0.617952\n",
            "[1000]\tvalidation_0-auc:0.623235\n",
            "[1250]\tvalidation_0-auc:0.628331\n",
            "[1500]\tvalidation_0-auc:0.630972\n",
            "[1750]\tvalidation_0-auc:0.633801\n",
            "[2000]\tvalidation_0-auc:0.634502\n",
            "Stopping. Best iteration:\n",
            "[1944]\tvalidation_0-auc:0.636021\n",
            "\n",
            "--------------------------------------------------\n",
            "--------------------------------------------------\n",
            "Fold: 10\n",
            "[0]\tvalidation_0-auc:0.5\n",
            "Will train until validation_0-auc hasn't improved in 200 rounds.\n",
            "[250]\tvalidation_0-auc:0.630809\n",
            "[500]\tvalidation_0-auc:0.650093\n",
            "[750]\tvalidation_0-auc:0.660484\n",
            "[1000]\tvalidation_0-auc:0.662775\n",
            "Stopping. Best iteration:\n",
            "[924]\tvalidation_0-auc:0.663219\n",
            "\n",
            "--------------------------------------------------\n",
            "OOF score : 0.6333543103038647\n"
          ],
          "name": "stdout"
        }
      ]
    },
    {
      "cell_type": "code",
      "metadata": {
        "id": "r16LoEDERocu"
      },
      "source": [
        "xgbm_preds = np.mean(xgb_preds,axis=0)"
      ],
      "execution_count": 60,
      "outputs": []
    },
    {
      "cell_type": "code",
      "metadata": {
        "id": "9FQP18Q-k0OX"
      },
      "source": [
        "lightgbm_preds = np.mean(lgb_preds,axis=0)"
      ],
      "execution_count": 61,
      "outputs": []
    },
    {
      "cell_type": "code",
      "metadata": {
        "id": "fypI3k7qfTAC",
        "outputId": "6727deaf-d114-43e0-d8df-b591e053257d",
        "colab": {
          "base_uri": "https://localhost:8080/"
        }
      },
      "source": [
        "from sklearn.ensemble import RandomForestClassifier\n",
        "rf = RandomForestClassifier(max_depth=10,min_samples_split=10,min_samples_leaf=15,n_estimators=400,n_jobs=-1,random_state=CFG.SEED)\n",
        "\n",
        "skf = StratifiedKFold(n_splits=CFG.n_splits,shuffle=True, random_state=CFG.SEED)\n",
        "\n",
        "X , y   = train[features_columns] , train[CFG.TARGET_COL]\n",
        "\n",
        "oof_rf = np.zeros((train.shape[0],))\n",
        "test['target'] = 0\n",
        "rf_preds = []\n",
        "\n",
        "for fold_, (trn_idx, val_idx) in enumerate(skf.split(X, y)):\n",
        "    print(50*'-')\n",
        "    print('Fold:',fold_+1)\n",
        "\n",
        "    tr_x, tr_y = X.iloc[trn_idx,:], y[trn_idx] \n",
        "    vl_x, vl_y = X.iloc[val_idx,:], y[val_idx] \n",
        "\n",
        "    \n",
        "    estimator = rf.fit(tr_x, tr_y)\n",
        "    train_predict = estimator.predict_proba(tr_x)[:,1]\n",
        "    y_pred_val = estimator.predict_proba(vl_x)[:,1]\n",
        "    oof_rf[val_idx] = y_pred_val\n",
        "    \n",
        "    y_pred_test = estimator.predict(test[features_columns])\n",
        "    rf_preds.append(y_pred_test)\n",
        "    print(50*'-')\n",
        "    \n",
        "    \n",
        "print('OOF score :',roc_auc_score(y, oof_rf))\n"
      ],
      "execution_count": 84,
      "outputs": [
        {
          "output_type": "stream",
          "text": [
            "--------------------------------------------------\n",
            "Fold: 1\n",
            "--------------------------------------------------\n",
            "--------------------------------------------------\n",
            "Fold: 2\n",
            "--------------------------------------------------\n",
            "--------------------------------------------------\n",
            "Fold: 3\n",
            "--------------------------------------------------\n",
            "--------------------------------------------------\n",
            "Fold: 4\n",
            "--------------------------------------------------\n",
            "--------------------------------------------------\n",
            "Fold: 5\n",
            "--------------------------------------------------\n",
            "--------------------------------------------------\n",
            "Fold: 6\n",
            "--------------------------------------------------\n",
            "--------------------------------------------------\n",
            "Fold: 7\n",
            "--------------------------------------------------\n",
            "--------------------------------------------------\n",
            "Fold: 8\n",
            "--------------------------------------------------\n",
            "--------------------------------------------------\n",
            "Fold: 9\n",
            "--------------------------------------------------\n",
            "--------------------------------------------------\n",
            "Fold: 10\n",
            "--------------------------------------------------\n",
            "OOF score : 0.6518208821685321\n"
          ],
          "name": "stdout"
        }
      ]
    },
    {
      "cell_type": "code",
      "metadata": {
        "id": "jITUryo_iVtN"
      },
      "source": [
        "rf_preds = np.mean(lgb_preds,axis=0)\n"
      ],
      "execution_count": 87,
      "outputs": []
    },
    {
      "cell_type": "code",
      "metadata": {
        "id": "FCgfG8a3k9Ag",
        "outputId": "8f61a003-2431-416b-e7ac-8e036705c91b",
        "colab": {
          "base_uri": "https://localhost:8080/"
        }
      },
      "source": [
        "!pip install rgf-python"
      ],
      "execution_count": 97,
      "outputs": [
        {
          "output_type": "stream",
          "text": [
            "Collecting rgf-python\n",
            "\u001b[?25l  Downloading https://files.pythonhosted.org/packages/7d/b5/9ba527ce20a1a5a6c279318be856aa4996e0d1b59035d466173198ffd468/rgf_python-3.9.0-py2.py3-none-manylinux1_x86_64.whl (757kB)\n",
            "\r\u001b[K     |▍                               | 10kB 15.9MB/s eta 0:00:01\r\u001b[K     |▉                               | 20kB 21.4MB/s eta 0:00:01\r\u001b[K     |█▎                              | 30kB 26.3MB/s eta 0:00:01\r\u001b[K     |█▊                              | 40kB 28.5MB/s eta 0:00:01\r\u001b[K     |██▏                             | 51kB 24.9MB/s eta 0:00:01\r\u001b[K     |██▋                             | 61kB 21.8MB/s eta 0:00:01\r\u001b[K     |███                             | 71kB 18.2MB/s eta 0:00:01\r\u001b[K     |███▌                            | 81kB 16.5MB/s eta 0:00:01\r\u001b[K     |████                            | 92kB 16.2MB/s eta 0:00:01\r\u001b[K     |████▎                           | 102kB 17.2MB/s eta 0:00:01\r\u001b[K     |████▊                           | 112kB 17.2MB/s eta 0:00:01\r\u001b[K     |█████▏                          | 122kB 17.2MB/s eta 0:00:01\r\u001b[K     |█████▋                          | 133kB 17.2MB/s eta 0:00:01\r\u001b[K     |██████                          | 143kB 17.2MB/s eta 0:00:01\r\u001b[K     |██████▌                         | 153kB 17.2MB/s eta 0:00:01\r\u001b[K     |███████                         | 163kB 17.2MB/s eta 0:00:01\r\u001b[K     |███████▍                        | 174kB 17.2MB/s eta 0:00:01\r\u001b[K     |███████▉                        | 184kB 17.2MB/s eta 0:00:01\r\u001b[K     |████████▏                       | 194kB 17.2MB/s eta 0:00:01\r\u001b[K     |████████▋                       | 204kB 17.2MB/s eta 0:00:01\r\u001b[K     |█████████                       | 215kB 17.2MB/s eta 0:00:01\r\u001b[K     |█████████▌                      | 225kB 17.2MB/s eta 0:00:01\r\u001b[K     |██████████                      | 235kB 17.2MB/s eta 0:00:01\r\u001b[K     |██████████▍                     | 245kB 17.2MB/s eta 0:00:01\r\u001b[K     |██████████▉                     | 256kB 17.2MB/s eta 0:00:01\r\u001b[K     |███████████▎                    | 266kB 17.2MB/s eta 0:00:01\r\u001b[K     |███████████▊                    | 276kB 17.2MB/s eta 0:00:01\r\u001b[K     |████████████                    | 286kB 17.2MB/s eta 0:00:01\r\u001b[K     |████████████▌                   | 296kB 17.2MB/s eta 0:00:01\r\u001b[K     |█████████████                   | 307kB 17.2MB/s eta 0:00:01\r\u001b[K     |█████████████▍                  | 317kB 17.2MB/s eta 0:00:01\r\u001b[K     |█████████████▉                  | 327kB 17.2MB/s eta 0:00:01\r\u001b[K     |██████████████▎                 | 337kB 17.2MB/s eta 0:00:01\r\u001b[K     |██████████████▊                 | 348kB 17.2MB/s eta 0:00:01\r\u001b[K     |███████████████▏                | 358kB 17.2MB/s eta 0:00:01\r\u001b[K     |███████████████▋                | 368kB 17.2MB/s eta 0:00:01\r\u001b[K     |████████████████                | 378kB 17.2MB/s eta 0:00:01\r\u001b[K     |████████████████▍               | 389kB 17.2MB/s eta 0:00:01\r\u001b[K     |████████████████▉               | 399kB 17.2MB/s eta 0:00:01\r\u001b[K     |█████████████████▎              | 409kB 17.2MB/s eta 0:00:01\r\u001b[K     |█████████████████▊              | 419kB 17.2MB/s eta 0:00:01\r\u001b[K     |██████████████████▏             | 430kB 17.2MB/s eta 0:00:01\r\u001b[K     |██████████████████▋             | 440kB 17.2MB/s eta 0:00:01\r\u001b[K     |███████████████████             | 450kB 17.2MB/s eta 0:00:01\r\u001b[K     |███████████████████▌            | 460kB 17.2MB/s eta 0:00:01\r\u001b[K     |████████████████████            | 471kB 17.2MB/s eta 0:00:01\r\u001b[K     |████████████████████▎           | 481kB 17.2MB/s eta 0:00:01\r\u001b[K     |████████████████████▊           | 491kB 17.2MB/s eta 0:00:01\r\u001b[K     |█████████████████████▏          | 501kB 17.2MB/s eta 0:00:01\r\u001b[K     |█████████████████████▋          | 512kB 17.2MB/s eta 0:00:01\r\u001b[K     |██████████████████████          | 522kB 17.2MB/s eta 0:00:01\r\u001b[K     |██████████████████████▌         | 532kB 17.2MB/s eta 0:00:01\r\u001b[K     |███████████████████████         | 542kB 17.2MB/s eta 0:00:01\r\u001b[K     |███████████████████████▍        | 552kB 17.2MB/s eta 0:00:01\r\u001b[K     |███████████████████████▉        | 563kB 17.2MB/s eta 0:00:01\r\u001b[K     |████████████████████████▏       | 573kB 17.2MB/s eta 0:00:01\r\u001b[K     |████████████████████████▋       | 583kB 17.2MB/s eta 0:00:01\r\u001b[K     |█████████████████████████       | 593kB 17.2MB/s eta 0:00:01\r\u001b[K     |█████████████████████████▌      | 604kB 17.2MB/s eta 0:00:01\r\u001b[K     |██████████████████████████      | 614kB 17.2MB/s eta 0:00:01\r\u001b[K     |██████████████████████████▍     | 624kB 17.2MB/s eta 0:00:01\r\u001b[K     |██████████████████████████▉     | 634kB 17.2MB/s eta 0:00:01\r\u001b[K     |███████████████████████████▎    | 645kB 17.2MB/s eta 0:00:01\r\u001b[K     |███████████████████████████▊    | 655kB 17.2MB/s eta 0:00:01\r\u001b[K     |████████████████████████████    | 665kB 17.2MB/s eta 0:00:01\r\u001b[K     |████████████████████████████▌   | 675kB 17.2MB/s eta 0:00:01\r\u001b[K     |█████████████████████████████   | 686kB 17.2MB/s eta 0:00:01\r\u001b[K     |█████████████████████████████▍  | 696kB 17.2MB/s eta 0:00:01\r\u001b[K     |█████████████████████████████▉  | 706kB 17.2MB/s eta 0:00:01\r\u001b[K     |██████████████████████████████▎ | 716kB 17.2MB/s eta 0:00:01\r\u001b[K     |██████████████████████████████▊ | 727kB 17.2MB/s eta 0:00:01\r\u001b[K     |███████████████████████████████▏| 737kB 17.2MB/s eta 0:00:01\r\u001b[K     |███████████████████████████████▋| 747kB 17.2MB/s eta 0:00:01\r\u001b[K     |████████████████████████████████| 757kB 17.2MB/s eta 0:00:01\r\u001b[K     |████████████████████████████████| 768kB 17.2MB/s \n",
            "\u001b[?25hRequirement already satisfied: scikit-learn>=0.18 in /usr/local/lib/python3.7/dist-packages (from rgf-python) (0.22.2.post1)\n",
            "Requirement already satisfied: six in /usr/local/lib/python3.7/dist-packages (from rgf-python) (1.15.0)\n",
            "Requirement already satisfied: joblib in /usr/local/lib/python3.7/dist-packages (from rgf-python) (1.0.1)\n",
            "Requirement already satisfied: numpy>=1.11.0 in /usr/local/lib/python3.7/dist-packages (from scikit-learn>=0.18->rgf-python) (1.19.5)\n",
            "Requirement already satisfied: scipy>=0.17.0 in /usr/local/lib/python3.7/dist-packages (from scikit-learn>=0.18->rgf-python) (1.4.1)\n",
            "Installing collected packages: rgf-python\n",
            "Successfully installed rgf-python-3.9.0\n"
          ],
          "name": "stdout"
        }
      ]
    },
    {
      "cell_type": "code",
      "metadata": {
        "id": "kqzNmwlYiM0F",
        "outputId": "45a530ae-ca4e-46d5-9b82-8914b848cd7a",
        "colab": {
          "base_uri": "https://localhost:8080/"
        }
      },
      "source": [
        "from rgf.sklearn import RGFClassifier\n",
        "rfg = RGFClassifier( algorithm ='RGF_Sib',max_leaf=1000)\n",
        "skf = StratifiedKFold(n_splits=CFG.n_splits,shuffle=True, random_state=CFG.SEED)\n",
        "\n",
        "X , y   = train[features_columns] , train[CFG.TARGET_COL]\n",
        "\n",
        "oof_rfg = np.zeros((train.shape[0],))\n",
        "test['target'] = 0\n",
        "rfg_preds = []\n",
        "\n",
        "for fold_, (trn_idx, val_idx) in enumerate(skf.split(X, y)):\n",
        "    print(50*'-')\n",
        "    print('Fold:',fold_+1)\n",
        "\n",
        "    tr_x, tr_y = X.iloc[trn_idx,:], y[trn_idx] \n",
        "    vl_x, vl_y = X.iloc[val_idx,:], y[val_idx] \n",
        "\n",
        "    \n",
        "    estimator = rfg.fit(tr_x, tr_y)\n",
        "    train_predict = estimator.predict_proba(tr_x)[:,1]\n",
        "    y_pred_val = estimator.predict_proba(vl_x)[:,1]\n",
        "    oof_rf[val_idx] = y_pred_val\n",
        "    \n",
        "    y_pred_test = estimator.predict(test[features_columns])\n",
        "    rfg_preds.append(y_pred_test)\n",
        "    print(50*'-')\n",
        "    \n",
        "    \n",
        "print('OOF score :',roc_auc_score(y, oof_rfg))\n"
      ],
      "execution_count": 98,
      "outputs": [
        {
          "output_type": "stream",
          "text": [
            "--------------------------------------------------\n",
            "Fold: 1\n",
            "--------------------------------------------------\n",
            "--------------------------------------------------\n",
            "Fold: 2\n",
            "--------------------------------------------------\n",
            "--------------------------------------------------\n",
            "Fold: 3\n",
            "--------------------------------------------------\n",
            "--------------------------------------------------\n",
            "Fold: 4\n",
            "--------------------------------------------------\n",
            "--------------------------------------------------\n",
            "Fold: 5\n",
            "--------------------------------------------------\n",
            "--------------------------------------------------\n",
            "Fold: 6\n",
            "--------------------------------------------------\n",
            "--------------------------------------------------\n",
            "Fold: 7\n",
            "--------------------------------------------------\n",
            "--------------------------------------------------\n",
            "Fold: 8\n",
            "--------------------------------------------------\n",
            "--------------------------------------------------\n",
            "Fold: 9\n",
            "--------------------------------------------------\n",
            "--------------------------------------------------\n",
            "Fold: 10\n",
            "--------------------------------------------------\n",
            "OOF score : 0.5\n"
          ],
          "name": "stdout"
        }
      ]
    },
    {
      "cell_type": "code",
      "metadata": {
        "id": "9sSUJNq4mUYM"
      },
      "source": [
        "gbm_model = GradientBoostingClassifier(max_depth=4,min_samples_leaf=10,n_estimators=200,learning_rate=0.1,min_samples_split=10,random_state=10)"
      ],
      "execution_count": null,
      "outputs": []
    },
    {
      "cell_type": "code",
      "metadata": {
        "id": "n_lJOJ0ciUvZ"
      },
      "source": [
        ""
      ],
      "execution_count": null,
      "outputs": []
    },
    {
      "cell_type": "code",
      "metadata": {
        "id": "nPPerHDVmZn8"
      },
      "source": [
        "test['target'] = catboost_preds\n",
        "submission = test[['ID', 'target']]\n",
        "submission.to_csv('Women-Solution_cat2.csv',index = False)"
      ],
      "execution_count": 19,
      "outputs": []
    },
    {
      "cell_type": "code",
      "metadata": {
        "id": "W1mhY_xqlCyg"
      },
      "source": [
        "test['target'] = lightgbm_preds\n",
        "submission = test[['ID', 'target']]\n",
        "submission.to_csv('Women-Solution_lgbm.csv',index = False)"
      ],
      "execution_count": 77,
      "outputs": []
    },
    {
      "cell_type": "code",
      "metadata": {
        "id": "2x0XBgXZY_6f"
      },
      "source": [
        "test['target'] = lightgbm_preds*0.2  + catboost_preds*0.15 +rf_preds*0.15 + xgbm_preds*0.5\n",
        "submission = test[['ID', 'target']]\n",
        "submission.to_csv('Women-Solution_lgb_cat_rf_xg_1.csv',index = False)"
      ],
      "execution_count": 101,
      "outputs": []
    },
    {
      "cell_type": "markdown",
      "metadata": {
        "id": "Qr1LMYwyaqCV"
      },
      "source": [
        ""
      ]
    },
    {
      "cell_type": "code",
      "metadata": {
        "colab": {
          "base_uri": "https://localhost:8080/",
          "height": 17
        },
        "id": "CJGQ8n8UY_zM",
        "outputId": "9ed1d161-97d8-4fdb-a9b8-e27581af2037"
      },
      "source": [
        "from google.colab import files\n",
        "files.download('Women-Solution_lgb_cat_rf_xg_1.csv')"
      ],
      "execution_count": 102,
      "outputs": [
        {
          "output_type": "display_data",
          "data": {
            "application/javascript": [
              "\n",
              "    async function download(id, filename, size) {\n",
              "      if (!google.colab.kernel.accessAllowed) {\n",
              "        return;\n",
              "      }\n",
              "      const div = document.createElement('div');\n",
              "      const label = document.createElement('label');\n",
              "      label.textContent = `Downloading \"${filename}\": `;\n",
              "      div.appendChild(label);\n",
              "      const progress = document.createElement('progress');\n",
              "      progress.max = size;\n",
              "      div.appendChild(progress);\n",
              "      document.body.appendChild(div);\n",
              "\n",
              "      const buffers = [];\n",
              "      let downloaded = 0;\n",
              "\n",
              "      const channel = await google.colab.kernel.comms.open(id);\n",
              "      // Send a message to notify the kernel that we're ready.\n",
              "      channel.send({})\n",
              "\n",
              "      for await (const message of channel.messages) {\n",
              "        // Send a message to notify the kernel that we're ready.\n",
              "        channel.send({})\n",
              "        if (message.buffers) {\n",
              "          for (const buffer of message.buffers) {\n",
              "            buffers.push(buffer);\n",
              "            downloaded += buffer.byteLength;\n",
              "            progress.value = downloaded;\n",
              "          }\n",
              "        }\n",
              "      }\n",
              "      const blob = new Blob(buffers, {type: 'application/binary'});\n",
              "      const a = document.createElement('a');\n",
              "      a.href = window.URL.createObjectURL(blob);\n",
              "      a.download = filename;\n",
              "      div.appendChild(a);\n",
              "      a.click();\n",
              "      div.remove();\n",
              "    }\n",
              "  "
            ],
            "text/plain": [
              "<IPython.core.display.Javascript object>"
            ]
          },
          "metadata": {
            "tags": []
          }
        },
        {
          "output_type": "display_data",
          "data": {
            "application/javascript": [
              "download(\"download_1c4826f6-5100-4806-88f1-8fa3508224d0\", \"Women-Solution_lgb_cat_rf_xg_1.csv\", 107244)"
            ],
            "text/plain": [
              "<IPython.core.display.Javascript object>"
            ]
          },
          "metadata": {
            "tags": []
          }
        }
      ]
    },
    {
      "cell_type": "code",
      "metadata": {
        "id": "gyGYcgHfdpVW"
      },
      "source": [
        ""
      ],
      "execution_count": null,
      "outputs": []
    }
  ]
}
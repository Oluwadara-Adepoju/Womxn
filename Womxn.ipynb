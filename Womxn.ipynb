{
  "nbformat": 4,
  "nbformat_minor": 0,
  "metadata": {
    "colab": {
      "name": "Womxn.ipynb",
      "provenance": [],
      "authorship_tag": "ABX9TyM2dC18GhLj9nMy3wBWXRVy",
      "include_colab_link": true
    },
    "kernelspec": {
      "name": "python3",
      "display_name": "Python 3"
    },
    "language_info": {
      "name": "python"
    }
  },
  "cells": [
    {
      "cell_type": "markdown",
      "metadata": {
        "id": "view-in-github",
        "colab_type": "text"
      },
      "source": [
        "<a href=\"https://colab.research.google.com/github/Oluwadara-Adepoju/Womxn/blob/main/Womxn.ipynb\" target=\"_parent\"><img src=\"https://colab.research.google.com/assets/colab-badge.svg\" alt=\"Open In Colab\"/></a>"
      ]
    },
    {
      "cell_type": "code",
      "metadata": {
        "colab": {
          "base_uri": "https://localhost:8080/"
        },
        "id": "wu5sK2XBEmF1",
        "outputId": "ecd30365-b4e1-4586-9ab0-ff554c0af621"
      },
      "source": [
        "from google.colab import drive\n",
        "drive.mount('/content/drive')"
      ],
      "execution_count": 10,
      "outputs": [
        {
          "output_type": "stream",
          "text": [
            "Mounted at /content/drive\n"
          ],
          "name": "stdout"
        }
      ]
    },
    {
      "cell_type": "code",
      "metadata": {
        "id": "phAE2_jFFzIU"
      },
      "source": [
        "from sklearn.model_selection import train_test_split\n",
        "from sklearn.linear_model import LogisticRegression\n",
        "from sklearn.ensemble import RandomForestClassifier\n",
        "from sklearn.metrics import accuracy_score,  mean_squared_error, f1_score, roc_auc_score\n",
        "\n",
        "from sklearn.preprocessing import LabelEncoder\n",
        "\n",
        "label = LabelEncoder()"
      ],
      "execution_count": 2,
      "outputs": []
    },
    {
      "cell_type": "code",
      "metadata": {
        "colab": {
          "base_uri": "https://localhost:8080/"
        },
        "id": "8hqFs8xPaGii",
        "outputId": "2e311e79-5172-4eac-ffb0-70ed4510879f"
      },
      "source": [
        "!pip install catboost==0.22 --quiet"
      ],
      "execution_count": 4,
      "outputs": [
        {
          "output_type": "stream",
          "text": [
            "\u001b[K     |████████████████████████████████| 64.4MB 63kB/s \n",
            "\u001b[?25h"
          ],
          "name": "stdout"
        }
      ]
    },
    {
      "cell_type": "code",
      "metadata": {
        "id": "VYhZLuzhFzLC"
      },
      "source": [
        "import os, sys, gc, warnings, random\n",
        "import numpy as np \n",
        "import pandas as pd \n",
        "from sklearn.model_selection import StratifiedKFold\n",
        "from sklearn import preprocessing\n",
        "import lightgbm as lgb  \n",
        "from catboost import CatBoostClassifier ,Pool\n",
        "\n",
        "from sklearn.metrics import auc, classification_report, roc_auc_score\n",
        "from lightgbm import LGBMClassifier\n",
        "from sklearn.ensemble import RandomForestClassifier\n",
        "\n",
        "import matplotlib.pyplot as plt\n",
        "import seaborn as sns\n",
        "%matplotlib inline\n",
        "\n",
        "import warnings\n",
        "warnings.filterwarnings('ignore')"
      ],
      "execution_count": 5,
      "outputs": []
    },
    {
      "cell_type": "code",
      "metadata": {
        "id": "DBYLK1vZVVGd"
      },
      "source": [
        "class CFG :\n",
        "  SEED = 42\n",
        "  n_splits = 5\n",
        "  catboost_params = {'learning_rate':0.05,'iterations':10000,'eval_metric':'AUC',\n",
        "                      'use_best_model' :True,'verbose':100,'random_seed': 0,\n",
        "                      'devices':'0:1',}#'task_type':\"GPU\",}\n",
        "\n",
        "  lgb_params = {'boosting_type': 'gbdt','objective': 'binary','metric': 'auc',\n",
        "                'n_estimators': 500,'sub_sample' : 0.7,'colsample_bytree' : 0.6,\n",
        "                'seed': SEED,'silent':False,'early_stopping_rounds': 100,\n",
        "               }\n",
        "  remove_features = ['ID', 'gender', 'target']\n",
        "  categ_features = ['race','dwelling','dwelling_type','province_code','metro_code','nationality','RTH','marital_st','Lang_inside','Lang_outside','Education','lw_work','lw_business','help_on_household','job_or_business','nature_of_work']\n",
        "  TARGET_COL = 'target'"
      ],
      "execution_count": 6,
      "outputs": []
    },
    {
      "cell_type": "code",
      "metadata": {
        "id": "-7TtUXecVVKE"
      },
      "source": [
        "def seed_everything(seed):\n",
        "    random.seed(seed)\n",
        "    np.random.seed(seed)"
      ],
      "execution_count": 7,
      "outputs": []
    },
    {
      "cell_type": "code",
      "metadata": {
        "id": "7uSinArpFzNz"
      },
      "source": [
        "train= pd.read_csv ( \"/content/drive/My Drive/Colab Notebooks/Women/Train (2).csv\")\n",
        "test = pd.read_csv(\"/content/drive/My Drive/Colab Notebooks/Women/Test (1).csv\")\n",
        "vd = pd.read_csv ( \"/content/drive/My Drive/Colab Notebooks/Women/VariableDefinitions.csv\")\n",
        "ss=pd.read_csv ( \"/content/drive/My Drive/Colab Notebooks/Women/SampleSubmission (1).csv\")"
      ],
      "execution_count": 11,
      "outputs": []
    },
    {
      "cell_type": "code",
      "metadata": {
        "id": "jzfcP-oAZAGR"
      },
      "source": [
        "seed_everything(CFG.SEED)"
      ],
      "execution_count": 12,
      "outputs": []
    },
    {
      "cell_type": "code",
      "metadata": {
        "id": "q8cwPYUCjGhX"
      },
      "source": [
        "train['gender'] = label.fit_transform(train['gender'])\n",
        "train['race'] = label.fit_transform(train['race'])\n",
        "train['dwelling'] = label.fit_transform(train['dwelling'])\n",
        "train['dwelling_type'] = label.fit_transform(train['dwelling_type'])\n",
        "train['province_code'] = label.fit_transform(train['province_code'])\n",
        "train['metro_code'] = label.fit_transform(train['metro_code'])\n",
        "train['nationality'] = label.fit_transform(train['nationality'])\n",
        "train['RTH'] = label.fit_transform(train['RTH'])\n",
        "train['marital_st'] = label.fit_transform(train['marital_st'])\n",
        "train['Lang_inside'] = label.fit_transform(train['Lang_inside'])\n",
        "train['Lang_outside'] = label.fit_transform(train['Lang_outside'])\n",
        "train['Education'] = label.fit_transform(train['Education'])\n",
        "train['lw_work'] = label.fit_transform(train['lw_work'])\n",
        "train['lw_business'] = label.fit_transform(train['lw_business'])\n",
        "train['help_on_household'] = label.fit_transform(train['help_on_household'])\n",
        "train['job_or_business'] = label.fit_transform(train['job_or_business'])\n",
        "train['nature_of_work'] = label.fit_transform(train['nature_of_work'])\n"
      ],
      "execution_count": 20,
      "outputs": []
    },
    {
      "cell_type": "code",
      "metadata": {
        "id": "Fh9zoBA0ju3G"
      },
      "source": [
        "test['gender'] = label.fit_transform(test['gender'])\n",
        "test['race'] = label.fit_transform(test['race'])\n",
        "test['dwelling'] = label.fit_transform(test['dwelling'])\n",
        "test['dwelling_type'] = label.fit_transform(test['dwelling_type'])\n",
        "test['province_code'] = label.fit_transform(test['province_code'])\n",
        "test['metro_code'] = label.fit_transform(test['metro_code'])\n",
        "test['nationality'] = label.fit_transform(test['nationality'])\n",
        "test['RTH'] = label.fit_transform(test['RTH'])\n",
        "test['marital_st'] = label.fit_transform(test['marital_st'])\n",
        "test['Lang_inside'] = label.fit_transform(test['Lang_inside'])\n",
        "test['Lang_outside'] = label.fit_transform(test['Lang_outside'])\n",
        "test['Education'] = label.fit_transform(test['Education'])\n",
        "test['lw_work'] = label.fit_transform(test['lw_work'])\n",
        "test['lw_business'] = label.fit_transform(test['lw_business'])\n",
        "test['help_on_household'] = label.fit_transform(test['help_on_household'])\n",
        "test['job_or_business'] = label.fit_transform(test['job_or_business'])\n",
        "test['nature_of_work'] = label.fit_transform(test['nature_of_work'])"
      ],
      "execution_count": 22,
      "outputs": []
    },
    {
      "cell_type": "code",
      "metadata": {
        "colab": {
          "base_uri": "https://localhost:8080/"
        },
        "id": "FNevu-83ZAC7",
        "outputId": "018f277a-b085-4e51-f60f-cce43aea9014"
      },
      "source": [
        "features_columns = [col for col in train.columns if col not in CFG.remove_features]\n",
        "len(features_columns)"
      ],
      "execution_count": 23,
      "outputs": [
        {
          "output_type": "execute_result",
          "data": {
            "text/plain": [
              "18"
            ]
          },
          "metadata": {
            "tags": []
          },
          "execution_count": 23
        }
      ]
    },
    {
      "cell_type": "code",
      "metadata": {
        "id": "CFtlkebBikh6"
      },
      "source": [
        ""
      ],
      "execution_count": null,
      "outputs": []
    },
    {
      "cell_type": "code",
      "metadata": {
        "colab": {
          "base_uri": "https://localhost:8080/"
        },
        "id": "3Jm5a8aHZAAv",
        "outputId": "b2d7c84a-3462-470d-ea83-1d4af4187c91"
      },
      "source": [
        "skf = StratifiedKFold(n_splits=CFG.n_splits,shuffle=True, random_state=CFG.SEED)\n",
        "\n",
        "X , y   = train[features_columns] , train[CFG.TARGET_COL]\n",
        "\n",
        "oof_cat = np.zeros((train.shape[0],))\n",
        "test['target'] = 0\n",
        "cat_preds= []\n",
        "\n",
        "for fold_, (trn_idx, val_idx) in enumerate(skf.split(X, y)):\n",
        "    print(50*'-')\n",
        "    print('Fold:',fold_+1)\n",
        "    X_train, y_train = X.iloc[trn_idx,:], y[trn_idx] \n",
        "    X_test, y_test = X.iloc[val_idx,:], y[val_idx] \n",
        "       \n",
        "    estimator = CatBoostClassifier(**CFG.catboost_params)\n",
        "    estimator.fit(Pool(X_train,y_train,cat_features = CFG.categ_features),\n",
        "                  eval_set = Pool(X_test,y_test,cat_features = CFG.categ_features),\n",
        "                  early_stopping_rounds=200)\n",
        "    \n",
        "    y_pred_val = estimator.predict_proba(X_test)[:,1]\n",
        "    oof_cat[val_idx] = y_pred_val\n",
        "    y_pred_test = estimator.predict_proba(test[features_columns])[:,1]\n",
        "    cat_preds.append(y_pred_test)\n",
        "    print(50*'-')\n",
        "    print()\n",
        "print('OOF score :',roc_auc_score(y, oof_cat))"
      ],
      "execution_count": 14,
      "outputs": [
        {
          "output_type": "stream",
          "text": [
            "--------------------------------------------------\n",
            "Fold: 1\n",
            "0:\ttest: 0.5934718\tbest: 0.5934718 (0)\ttotal: 85.9ms\tremaining: 14m 18s\n",
            "100:\ttest: 0.6620402\tbest: 0.6634041 (80)\ttotal: 2.17s\tremaining: 3m 33s\n",
            "200:\ttest: 0.6697719\tbest: 0.6717815 (191)\ttotal: 5.01s\tremaining: 4m 4s\n",
            "300:\ttest: 0.6623211\tbest: 0.6717815 (191)\ttotal: 8.2s\tremaining: 4m 24s\n",
            "Stopped by overfitting detector  (200 iterations wait)\n",
            "\n",
            "bestTest = 0.6717815217\n",
            "bestIteration = 191\n",
            "\n",
            "Shrink model to first 192 iterations.\n",
            "--------------------------------------------------\n",
            "\n",
            "--------------------------------------------------\n",
            "Fold: 2\n",
            "0:\ttest: 0.5723372\tbest: 0.5723372 (0)\ttotal: 22.6ms\tremaining: 3m 45s\n",
            "100:\ttest: 0.6737363\tbest: 0.6832410 (41)\ttotal: 2.21s\tremaining: 3m 37s\n",
            "200:\ttest: 0.6780163\tbest: 0.6832410 (41)\ttotal: 5.13s\tremaining: 4m 10s\n",
            "Stopped by overfitting detector  (200 iterations wait)\n",
            "\n",
            "bestTest = 0.6832409908\n",
            "bestIteration = 41\n",
            "\n",
            "Shrink model to first 42 iterations.\n",
            "--------------------------------------------------\n",
            "\n",
            "--------------------------------------------------\n",
            "Fold: 3\n",
            "0:\ttest: 0.5308150\tbest: 0.5308150 (0)\ttotal: 24.5ms\tremaining: 4m 5s\n",
            "100:\ttest: 0.6160647\tbest: 0.6180178 (78)\ttotal: 2.27s\tremaining: 3m 42s\n",
            "200:\ttest: 0.6090608\tbest: 0.6180178 (78)\ttotal: 5.02s\tremaining: 4m 4s\n",
            "Stopped by overfitting detector  (200 iterations wait)\n",
            "\n",
            "bestTest = 0.6180178039\n",
            "bestIteration = 78\n",
            "\n",
            "Shrink model to first 79 iterations.\n",
            "--------------------------------------------------\n",
            "\n",
            "--------------------------------------------------\n",
            "Fold: 4\n",
            "0:\ttest: 0.5431131\tbest: 0.5431131 (0)\ttotal: 22.2ms\tremaining: 3m 42s\n",
            "100:\ttest: 0.6413913\tbest: 0.6442601 (72)\ttotal: 2.33s\tremaining: 3m 48s\n",
            "200:\ttest: 0.6492703\tbest: 0.6510206 (173)\ttotal: 5.28s\tremaining: 4m 17s\n",
            "300:\ttest: 0.6506729\tbest: 0.6541328 (231)\ttotal: 8.45s\tremaining: 4m 32s\n",
            "400:\ttest: 0.6474650\tbest: 0.6541328 (231)\ttotal: 11.7s\tremaining: 4m 39s\n",
            "Stopped by overfitting detector  (200 iterations wait)\n",
            "\n",
            "bestTest = 0.654132811\n",
            "bestIteration = 231\n",
            "\n",
            "Shrink model to first 232 iterations.\n",
            "--------------------------------------------------\n",
            "\n",
            "--------------------------------------------------\n",
            "Fold: 5\n",
            "0:\ttest: 0.5472917\tbest: 0.5472917 (0)\ttotal: 22ms\tremaining: 3m 40s\n",
            "100:\ttest: 0.6384645\tbest: 0.6410522 (79)\ttotal: 2.22s\tremaining: 3m 37s\n",
            "200:\ttest: 0.6417941\tbest: 0.6418173 (184)\ttotal: 5.2s\tremaining: 4m 13s\n",
            "300:\ttest: 0.6474216\tbest: 0.6481982 (296)\ttotal: 8.42s\tremaining: 4m 31s\n",
            "400:\ttest: 0.6406408\tbest: 0.6481982 (296)\ttotal: 11.6s\tremaining: 4m 38s\n",
            "Stopped by overfitting detector  (200 iterations wait)\n",
            "\n",
            "bestTest = 0.6481981616\n",
            "bestIteration = 296\n",
            "\n",
            "Shrink model to first 297 iterations.\n",
            "--------------------------------------------------\n",
            "\n",
            "OOF score : 0.6375233962758344\n"
          ],
          "name": "stdout"
        }
      ]
    },
    {
      "cell_type": "code",
      "metadata": {
        "id": "coyEjzMpY_8-"
      },
      "source": [
        "catboost_preds = np.mean(cat_preds,axis=0)"
      ],
      "execution_count": 15,
      "outputs": []
    },
    {
      "cell_type": "code",
      "metadata": {
        "colab": {
          "base_uri": "https://localhost:8080/"
        },
        "id": "HFFNcW9chRh4",
        "outputId": "77dceade-4e93-40ca-890b-0725fb88f2bd"
      },
      "source": [
        "skf = StratifiedKFold(n_splits=CFG.n_splits,shuffle=True, random_state=CFG.SEED)\n",
        "\n",
        "X , y   = train[features_columns] , train[CFG.TARGET_COL]\n",
        "\n",
        "oof_lgb = np.zeros((train.shape[0],))\n",
        "test['target'] = 0\n",
        "lgb_preds = []\n",
        "\n",
        "for fold_, (trn_idx, val_idx) in enumerate(skf.split(X, y)):\n",
        "    print(50*'-')\n",
        "    print('Fold:',fold_+1)\n",
        "\n",
        "    tr_x, tr_y = X.iloc[trn_idx,:], y[trn_idx] \n",
        "    vl_x, vl_y = X.iloc[val_idx,:], y[val_idx] \n",
        "        \n",
        "    train_data = lgb.Dataset(tr_x, label=tr_y,categorical_feature=CFG.categ_features)\n",
        "    valid_data = lgb.Dataset(vl_x, label=vl_y,categorical_feature=CFG.categ_features)\n",
        "\n",
        "    estimator = lgb.train(CFG.lgb_params,train_data,valid_sets = [train_data,valid_data],verbose_eval = 100)\n",
        "    \n",
        "    y_pred_val = estimator.predict(vl_x,num_iteration=estimator.best_iteration)\n",
        "    oof_lgb[val_idx] = y_pred_val\n",
        "    \n",
        "    y_pred_test = estimator.predict(test[features_columns],num_iteration=estimator.best_iteration)\n",
        "    lgb_preds.append(y_pred_test)\n",
        "    print(50*'-')\n",
        "\n",
        "print('OOF score :',roc_auc_score(y, oof_lgb))"
      ],
      "execution_count": 24,
      "outputs": [
        {
          "output_type": "stream",
          "text": [
            "--------------------------------------------------\n",
            "Fold: 1\n",
            "Training until validation scores don't improve for 100 rounds.\n",
            "[100]\ttraining's auc: 0.980203\tvalid_1's auc: 0.655392\n",
            "Early stopping, best iteration is:\n",
            "[15]\ttraining's auc: 0.841261\tvalid_1's auc: 0.678532\n",
            "--------------------------------------------------\n",
            "--------------------------------------------------\n",
            "Fold: 2\n",
            "Training until validation scores don't improve for 100 rounds.\n",
            "[100]\ttraining's auc: 0.978235\tvalid_1's auc: 0.665996\n",
            "Early stopping, best iteration is:\n",
            "[23]\ttraining's auc: 0.869643\tvalid_1's auc: 0.675895\n",
            "--------------------------------------------------\n",
            "--------------------------------------------------\n",
            "Fold: 3\n",
            "Training until validation scores don't improve for 100 rounds.\n",
            "[100]\ttraining's auc: 0.979532\tvalid_1's auc: 0.567698\n",
            "Early stopping, best iteration is:\n",
            "[26]\ttraining's auc: 0.878125\tvalid_1's auc: 0.608586\n",
            "--------------------------------------------------\n",
            "--------------------------------------------------\n",
            "Fold: 4\n",
            "Training until validation scores don't improve for 100 rounds.\n",
            "[100]\ttraining's auc: 0.979981\tvalid_1's auc: 0.635523\n",
            "Early stopping, best iteration is:\n",
            "[14]\ttraining's auc: 0.838685\tvalid_1's auc: 0.651829\n",
            "--------------------------------------------------\n",
            "--------------------------------------------------\n",
            "Fold: 5\n",
            "Training until validation scores don't improve for 100 rounds.\n",
            "[100]\ttraining's auc: 0.979591\tvalid_1's auc: 0.639264\n",
            "Early stopping, best iteration is:\n",
            "[44]\ttraining's auc: 0.919341\tvalid_1's auc: 0.656492\n",
            "--------------------------------------------------\n",
            "OOF score : 0.6498601728456015\n"
          ],
          "name": "stdout"
        }
      ]
    },
    {
      "cell_type": "code",
      "metadata": {
        "id": "9FQP18Q-k0OX"
      },
      "source": [
        "lightgbm_preds = np.mean(lgb_preds,axis=0)"
      ],
      "execution_count": 25,
      "outputs": []
    },
    {
      "cell_type": "code",
      "metadata": {
        "id": "nPPerHDVmZn8"
      },
      "source": [
        ""
      ],
      "execution_count": null,
      "outputs": []
    },
    {
      "cell_type": "code",
      "metadata": {
        "id": "W1mhY_xqlCyg"
      },
      "source": [
        "test['target'] = lightgbm_preds\n",
        "submission = test[['ID', 'target']]\n",
        "submission.to_csv('Women-Solution_lgbm.csv',index = False)"
      ],
      "execution_count": 26,
      "outputs": []
    },
    {
      "cell_type": "code",
      "metadata": {
        "id": "2x0XBgXZY_6f"
      },
      "source": [
        "test['target'] = catboost_preds\n",
        "submission = test[['ID', 'target']]\n",
        "submission.to_csv('Women-Solution.csv',index = False)"
      ],
      "execution_count": 16,
      "outputs": []
    },
    {
      "cell_type": "code",
      "metadata": {
        "colab": {
          "base_uri": "https://localhost:8080/",
          "height": 17
        },
        "id": "CJGQ8n8UY_zM",
        "outputId": "4c534437-c844-4ee6-c489-c27dc5697824"
      },
      "source": [
        "from google.colab import files\n",
        "files.download('Women-Solution_lgbm.csv')"
      ],
      "execution_count": 29,
      "outputs": [
        {
          "output_type": "display_data",
          "data": {
            "application/javascript": [
              "\n",
              "    async function download(id, filename, size) {\n",
              "      if (!google.colab.kernel.accessAllowed) {\n",
              "        return;\n",
              "      }\n",
              "      const div = document.createElement('div');\n",
              "      const label = document.createElement('label');\n",
              "      label.textContent = `Downloading \"${filename}\": `;\n",
              "      div.appendChild(label);\n",
              "      const progress = document.createElement('progress');\n",
              "      progress.max = size;\n",
              "      div.appendChild(progress);\n",
              "      document.body.appendChild(div);\n",
              "\n",
              "      const buffers = [];\n",
              "      let downloaded = 0;\n",
              "\n",
              "      const channel = await google.colab.kernel.comms.open(id);\n",
              "      // Send a message to notify the kernel that we're ready.\n",
              "      channel.send({})\n",
              "\n",
              "      for await (const message of channel.messages) {\n",
              "        // Send a message to notify the kernel that we're ready.\n",
              "        channel.send({})\n",
              "        if (message.buffers) {\n",
              "          for (const buffer of message.buffers) {\n",
              "            buffers.push(buffer);\n",
              "            downloaded += buffer.byteLength;\n",
              "            progress.value = downloaded;\n",
              "          }\n",
              "        }\n",
              "      }\n",
              "      const blob = new Blob(buffers, {type: 'application/binary'});\n",
              "      const a = document.createElement('a');\n",
              "      a.href = window.URL.createObjectURL(blob);\n",
              "      a.download = filename;\n",
              "      div.appendChild(a);\n",
              "      a.click();\n",
              "      div.remove();\n",
              "    }\n",
              "  "
            ],
            "text/plain": [
              "<IPython.core.display.Javascript object>"
            ]
          },
          "metadata": {
            "tags": []
          }
        },
        {
          "output_type": "display_data",
          "data": {
            "application/javascript": [
              "download(\"download_287c7dd2-d20d-4a73-8af8-9e3d121539ca\", \"Women-Solution_lgbm.csv\", 106166)"
            ],
            "text/plain": [
              "<IPython.core.display.Javascript object>"
            ]
          },
          "metadata": {
            "tags": []
          }
        }
      ]
    },
    {
      "cell_type": "code",
      "metadata": {
        "id": "gyGYcgHfdpVW"
      },
      "source": [
        ""
      ],
      "execution_count": null,
      "outputs": []
    }
  ]
}